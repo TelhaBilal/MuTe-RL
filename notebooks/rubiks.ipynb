{
 "cells": [
  {
   "cell_type": "code",
   "execution_count": 1,
   "metadata": {},
   "outputs": [],
   "source": [
    "from MuTe_RL.simulations import rubiks\n",
    "from MuTe_RL.simulations.rubiks import cube\n",
    "\n",
    "from importlib import reload\n",
    "reload(cube), reload(rubiks)\n",
    "\n",
    "from MuTe_RL.simulations.rubiks import Cube\n",
    "\n",
    "from IPython.display import clear_output\n",
    "from copy import deepcopy\n",
    "import numpy as np\n",
    "from time import sleep"
   ]
  },
  {
   "cell_type": "code",
   "execution_count": 2,
   "metadata": {},
   "outputs": [
    {
     "data": {
      "text/plain": [
       "    \u001b[94m■\u001b[0m \u001b[94m■\u001b[0m\n",
       "    \u001b[94m■\u001b[0m \u001b[94m■\u001b[0m\n",
       "\u001b[97m■\u001b[0m \u001b[97m■\u001b[0m \u001b[91m■\u001b[0m \u001b[91m■\u001b[0m \u001b[93m■\u001b[0m \u001b[93m■\u001b[0m \u001b[38;5;216m■\u001b[0m \u001b[38;5;216m■\u001b[0m\n",
       "\u001b[97m■\u001b[0m \u001b[97m■\u001b[0m \u001b[91m■\u001b[0m \u001b[91m■\u001b[0m \u001b[93m■\u001b[0m \u001b[93m■\u001b[0m \u001b[38;5;216m■\u001b[0m \u001b[38;5;216m■\u001b[0m\n",
       "    \u001b[92m■\u001b[0m \u001b[92m■\u001b[0m\n",
       "    \u001b[92m■\u001b[0m \u001b[92m■\u001b[0m"
      ]
     },
     "execution_count": 2,
     "metadata": {},
     "output_type": "execute_result"
    }
   ],
   "source": [
    "size = 2\n",
    "cube = Cube(n_layers=size, numbered=False)\n",
    "cube"
   ]
  },
  {
   "cell_type": "code",
   "execution_count": 8,
   "metadata": {},
   "outputs": [
    {
     "name": "stdout",
     "output_type": "stream",
     "text": [
      "            \u001b[44m0 \u001b[0m \u001b[44m1 \u001b[0m \u001b[44m2 \u001b[0m \u001b[44m3 \u001b[0m\n",
      "            \u001b[44m4 \u001b[0m \u001b[44m5 \u001b[0m \u001b[44m6 \u001b[0m \u001b[44m7 \u001b[0m\n",
      "            \u001b[44m8 \u001b[0m \u001b[44m9 \u001b[0m \u001b[44m10\u001b[0m \u001b[44m11\u001b[0m\n",
      "            \u001b[44m12\u001b[0m \u001b[44m13\u001b[0m \u001b[44m14\u001b[0m \u001b[44m15\u001b[0m\n",
      "\u001b[48;5;15m0 \u001b[0m \u001b[48;5;15m1 \u001b[0m \u001b[48;5;15m2 \u001b[0m \u001b[48;5;15m3 \u001b[0m \u001b[41m0 \u001b[0m \u001b[41m1 \u001b[0m \u001b[41m2 \u001b[0m \u001b[41m3 \u001b[0m \u001b[43m0 \u001b[0m \u001b[43m1 \u001b[0m \u001b[43m2 \u001b[0m \u001b[43m3 \u001b[0m \u001b[48;5;208m0 \u001b[0m \u001b[48;5;208m1 \u001b[0m \u001b[48;5;208m2 \u001b[0m \u001b[48;5;208m3 \u001b[0m\n",
      "\u001b[48;5;15m4 \u001b[0m \u001b[48;5;15m5 \u001b[0m \u001b[48;5;15m6 \u001b[0m \u001b[48;5;15m7 \u001b[0m \u001b[41m4 \u001b[0m \u001b[41m5 \u001b[0m \u001b[41m6 \u001b[0m \u001b[41m7 \u001b[0m \u001b[43m4 \u001b[0m \u001b[43m5 \u001b[0m \u001b[43m6 \u001b[0m \u001b[43m7 \u001b[0m \u001b[48;5;208m4 \u001b[0m \u001b[48;5;208m5 \u001b[0m \u001b[48;5;208m6 \u001b[0m \u001b[48;5;208m7 \u001b[0m\n",
      "\u001b[48;5;15m8 \u001b[0m \u001b[48;5;15m9 \u001b[0m \u001b[48;5;15m10\u001b[0m \u001b[48;5;15m11\u001b[0m \u001b[41m8 \u001b[0m \u001b[41m9 \u001b[0m \u001b[41m10\u001b[0m \u001b[41m11\u001b[0m \u001b[43m8 \u001b[0m \u001b[43m9 \u001b[0m \u001b[43m10\u001b[0m \u001b[43m11\u001b[0m \u001b[48;5;208m8 \u001b[0m \u001b[48;5;208m9 \u001b[0m \u001b[48;5;208m10\u001b[0m \u001b[48;5;208m11\u001b[0m\n",
      "\u001b[48;5;15m12\u001b[0m \u001b[48;5;15m13\u001b[0m \u001b[48;5;15m14\u001b[0m \u001b[48;5;15m15\u001b[0m \u001b[41m12\u001b[0m \u001b[41m13\u001b[0m \u001b[41m14\u001b[0m \u001b[41m15\u001b[0m \u001b[43m12\u001b[0m \u001b[43m13\u001b[0m \u001b[43m14\u001b[0m \u001b[43m15\u001b[0m \u001b[48;5;208m12\u001b[0m \u001b[48;5;208m13\u001b[0m \u001b[48;5;208m14\u001b[0m \u001b[48;5;208m15\u001b[0m\n",
      "            \u001b[42m0 \u001b[0m \u001b[42m1 \u001b[0m \u001b[42m2 \u001b[0m \u001b[42m3 \u001b[0m\n",
      "            \u001b[42m4 \u001b[0m \u001b[42m5 \u001b[0m \u001b[42m6 \u001b[0m \u001b[42m7 \u001b[0m\n",
      "            \u001b[42m8 \u001b[0m \u001b[42m9 \u001b[0m \u001b[42m10\u001b[0m \u001b[42m11\u001b[0m\n",
      "            \u001b[42m12\u001b[0m \u001b[42m13\u001b[0m \u001b[42m14\u001b[0m \u001b[42m15\u001b[0m\n",
      "\n",
      "            \u001b[48;5;15m12\u001b[0m \u001b[48;5;15m8 \u001b[0m \u001b[48;5;15m4 \u001b[0m \u001b[48;5;15m0 \u001b[0m\n",
      "            \u001b[44m4 \u001b[0m \u001b[44m5 \u001b[0m \u001b[44m6 \u001b[0m \u001b[44m7 \u001b[0m\n",
      "            \u001b[44m8 \u001b[0m \u001b[44m9 \u001b[0m \u001b[44m10\u001b[0m \u001b[44m11\u001b[0m\n",
      "            \u001b[44m12\u001b[0m \u001b[44m13\u001b[0m \u001b[44m14\u001b[0m \u001b[44m15\u001b[0m\n",
      "\u001b[42m12\u001b[0m \u001b[48;5;15m1 \u001b[0m \u001b[48;5;15m2 \u001b[0m \u001b[48;5;15m3 \u001b[0m \u001b[41m0 \u001b[0m \u001b[41m1 \u001b[0m \u001b[41m2 \u001b[0m \u001b[41m3 \u001b[0m \u001b[43m0 \u001b[0m \u001b[43m1 \u001b[0m \u001b[43m2 \u001b[0m \u001b[44m0 \u001b[0m \u001b[48;5;208m3 \u001b[0m \u001b[48;5;208m7 \u001b[0m \u001b[48;5;208m11\u001b[0m \u001b[48;5;208m15\u001b[0m\n",
      "\u001b[42m13\u001b[0m \u001b[48;5;15m5 \u001b[0m \u001b[48;5;15m6 \u001b[0m \u001b[48;5;15m7 \u001b[0m \u001b[41m4 \u001b[0m \u001b[41m5 \u001b[0m \u001b[41m6 \u001b[0m \u001b[41m7 \u001b[0m \u001b[43m4 \u001b[0m \u001b[43m5 \u001b[0m \u001b[43m6 \u001b[0m \u001b[44m1 \u001b[0m \u001b[48;5;208m2 \u001b[0m \u001b[48;5;208m6 \u001b[0m \u001b[48;5;208m10\u001b[0m \u001b[48;5;208m14\u001b[0m\n",
      "\u001b[42m14\u001b[0m \u001b[48;5;15m9 \u001b[0m \u001b[48;5;15m10\u001b[0m \u001b[48;5;15m11\u001b[0m \u001b[41m8 \u001b[0m \u001b[41m9 \u001b[0m \u001b[41m10\u001b[0m \u001b[41m11\u001b[0m \u001b[43m8 \u001b[0m \u001b[43m9 \u001b[0m \u001b[43m10\u001b[0m \u001b[44m2 \u001b[0m \u001b[48;5;208m1 \u001b[0m \u001b[48;5;208m5 \u001b[0m \u001b[48;5;208m9 \u001b[0m \u001b[48;5;208m13\u001b[0m\n",
      "\u001b[42m15\u001b[0m \u001b[48;5;15m13\u001b[0m \u001b[48;5;15m14\u001b[0m \u001b[48;5;15m15\u001b[0m \u001b[41m12\u001b[0m \u001b[41m13\u001b[0m \u001b[41m14\u001b[0m \u001b[41m15\u001b[0m \u001b[43m12\u001b[0m \u001b[43m13\u001b[0m \u001b[43m14\u001b[0m \u001b[44m3 \u001b[0m \u001b[48;5;208m0 \u001b[0m \u001b[48;5;208m4 \u001b[0m \u001b[48;5;208m8 \u001b[0m \u001b[48;5;208m12\u001b[0m\n",
      "            \u001b[42m0 \u001b[0m \u001b[42m1 \u001b[0m \u001b[42m2 \u001b[0m \u001b[42m3 \u001b[0m\n",
      "            \u001b[42m4 \u001b[0m \u001b[42m5 \u001b[0m \u001b[42m6 \u001b[0m \u001b[42m7 \u001b[0m\n",
      "            \u001b[42m8 \u001b[0m \u001b[42m9 \u001b[0m \u001b[42m10\u001b[0m \u001b[42m11\u001b[0m\n",
      "            \u001b[43m15\u001b[0m \u001b[43m11\u001b[0m \u001b[43m7 \u001b[0m \u001b[43m3 \u001b[0m\n",
      "\n"
     ]
    }
   ],
   "source": [
    "c = Cube(n_layers=4, numbered=True)\n",
    "# check for impossible corners after shuffle\n",
    "print(c)\n",
    "print(c.move(\"z3\"))\n",
    "# print(c.move(\"y1\"))\n",
    "# print(c.move(\"y0\"))\n",
    "# print(c.move(\"z3'\"))\n",
    "# print(c.move(\"y0\"))\n",
    "# print(c.move(\"y0'\"))\n",
    "# print(c.move(\"x2'\"))\n"
   ]
  },
  {
   "cell_type": "code",
   "execution_count": 7,
   "metadata": {},
   "outputs": [
    {
     "data": {
      "text/plain": [
       "['z3', 'y1', 'y0', \"z3'\", \"x2'\"]"
      ]
     },
     "execution_count": 7,
     "metadata": {},
     "output_type": "execute_result"
    }
   ],
   "source": [
    "c.moves_stack"
   ]
  },
  {
   "cell_type": "code",
   "execution_count": 9,
   "metadata": {},
   "outputs": [
    {
     "data": {
      "text/plain": [
       "    \u001b[97m■\u001b[0m \u001b[92m■\u001b[0m\n",
       "    \u001b[93m■\u001b[0m \u001b[38;5;216m■\u001b[0m\n",
       "\u001b[94m■\u001b[0m \u001b[94m■\u001b[0m \u001b[91m■\u001b[0m \u001b[94m■\u001b[0m \u001b[93m■\u001b[0m \u001b[93m■\u001b[0m \u001b[91m■\u001b[0m \u001b[91m■\u001b[0m\n",
       "\u001b[38;5;216m■\u001b[0m \u001b[94m■\u001b[0m \u001b[97m■\u001b[0m \u001b[92m■\u001b[0m \u001b[38;5;216m■\u001b[0m \u001b[91m■\u001b[0m \u001b[92m■\u001b[0m \u001b[93m■\u001b[0m\n",
       "    \u001b[38;5;216m■\u001b[0m \u001b[97m■\u001b[0m\n",
       "    \u001b[92m■\u001b[0m \u001b[97m■\u001b[0m"
      ]
     },
     "execution_count": 9,
     "metadata": {},
     "output_type": "execute_result"
    }
   ],
   "source": [
    "cube.reset()\n",
    "cube.shuffle()"
   ]
  }
 ],
 "metadata": {
  "kernelspec": {
   "display_name": "mute",
   "language": "python",
   "name": "python3"
  },
  "language_info": {
   "codemirror_mode": {
    "name": "ipython",
    "version": 3
   },
   "file_extension": ".py",
   "mimetype": "text/x-python",
   "name": "python",
   "nbconvert_exporter": "python",
   "pygments_lexer": "ipython3",
   "version": "3.11.3"
  },
  "orig_nbformat": 4
 },
 "nbformat": 4,
 "nbformat_minor": 2
}
