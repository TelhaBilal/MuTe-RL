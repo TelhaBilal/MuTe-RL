{
 "cells": [
  {
   "cell_type": "code",
   "execution_count": 1,
   "metadata": {},
   "outputs": [],
   "source": [
    "from MuTe_RL.simulations import rubiks\n",
    "from MuTe_RL.simulations.rubiks import cube\n",
    "\n",
    "from importlib import reload\n",
    "reload(cube), reload(rubiks)\n",
    "\n",
    "from MuTe_RL.simulations.rubiks import Cube\n",
    "\n",
    "from IPython.display import clear_output\n",
    "from copy import deepcopy\n",
    "import numpy as np\n",
    "from time import sleep"
   ]
  },
  {
   "cell_type": "code",
   "execution_count": 2,
   "metadata": {},
   "outputs": [
    {
     "data": {
      "text/plain": [
       "    \u001b[94m■\u001b[0m \u001b[94m■\u001b[0m\n",
       "    \u001b[94m■\u001b[0m \u001b[94m■\u001b[0m\n",
       "\u001b[97m■\u001b[0m \u001b[97m■\u001b[0m \u001b[91m■\u001b[0m \u001b[91m■\u001b[0m \u001b[93m■\u001b[0m \u001b[93m■\u001b[0m  \u001b[38;5;216m■\u001b[0m \u001b[38;5;216m■\u001b[0m\n",
       "\u001b[97m■\u001b[0m \u001b[97m■\u001b[0m \u001b[91m■\u001b[0m \u001b[91m■\u001b[0m \u001b[93m■\u001b[0m \u001b[93m■\u001b[0m  \u001b[38;5;216m■\u001b[0m \u001b[38;5;216m■\u001b[0m\n",
       "    \u001b[92m■\u001b[0m \u001b[92m■\u001b[0m\n",
       "    \u001b[92m■\u001b[0m \u001b[92m■\u001b[0m"
      ]
     },
     "execution_count": 2,
     "metadata": {},
     "output_type": "execute_result"
    }
   ],
   "source": [
    "cube = Cube(n_layers=2)\n",
    "cube"
   ]
  },
  {
   "cell_type": "code",
   "execution_count": 3,
   "metadata": {},
   "outputs": [],
   "source": [
    "# cube.move(\"z0\") # not linked with right tiles --> impossible corners after shuffle"
   ]
  },
  {
   "cell_type": "code",
   "execution_count": 4,
   "metadata": {},
   "outputs": [],
   "source": [
    "# cube.shuffle()"
   ]
  },
  {
   "cell_type": "code",
   "execution_count": 5,
   "metadata": {},
   "outputs": [
    {
     "name": "stdout",
     "output_type": "stream",
     "text": [
      "    \u001b[38;5;216m■\u001b[0m \u001b[94m■\u001b[0m\n",
      "    \u001b[38;5;216m■\u001b[0m \u001b[94m■\u001b[0m\n",
      "\u001b[97m■\u001b[0m \u001b[97m■\u001b[0m \u001b[94m■\u001b[0m \u001b[91m■\u001b[0m \u001b[93m■\u001b[0m \u001b[93m■\u001b[0m  \u001b[92m■\u001b[0m \u001b[38;5;216m■\u001b[0m\n",
      "\u001b[97m■\u001b[0m \u001b[97m■\u001b[0m \u001b[94m■\u001b[0m \u001b[91m■\u001b[0m \u001b[93m■\u001b[0m \u001b[93m■\u001b[0m  \u001b[92m■\u001b[0m \u001b[38;5;216m■\u001b[0m\n",
      "    \u001b[91m■\u001b[0m \u001b[92m■\u001b[0m\n",
      "    \u001b[91m■\u001b[0m \u001b[92m■\u001b[0m\n",
      "\n",
      "    \u001b[94m■\u001b[0m \u001b[94m■\u001b[0m\n",
      "    \u001b[94m■\u001b[0m \u001b[94m■\u001b[0m\n",
      "\u001b[97m■\u001b[0m \u001b[97m■\u001b[0m \u001b[91m■\u001b[0m \u001b[91m■\u001b[0m \u001b[93m■\u001b[0m \u001b[93m■\u001b[0m  \u001b[38;5;216m■\u001b[0m \u001b[38;5;216m■\u001b[0m\n",
      "\u001b[97m■\u001b[0m \u001b[97m■\u001b[0m \u001b[91m■\u001b[0m \u001b[91m■\u001b[0m \u001b[93m■\u001b[0m \u001b[93m■\u001b[0m  \u001b[38;5;216m■\u001b[0m \u001b[38;5;216m■\u001b[0m\n",
      "    \u001b[92m■\u001b[0m \u001b[92m■\u001b[0m\n",
      "    \u001b[92m■\u001b[0m \u001b[92m■\u001b[0m\n",
      "\n",
      "    \u001b[91m■\u001b[0m \u001b[94m■\u001b[0m\n",
      "    \u001b[91m■\u001b[0m \u001b[94m■\u001b[0m\n",
      "\u001b[97m■\u001b[0m \u001b[97m■\u001b[0m \u001b[92m■\u001b[0m \u001b[91m■\u001b[0m \u001b[93m■\u001b[0m \u001b[93m■\u001b[0m  \u001b[94m■\u001b[0m \u001b[38;5;216m■\u001b[0m\n",
      "\u001b[97m■\u001b[0m \u001b[97m■\u001b[0m \u001b[92m■\u001b[0m \u001b[91m■\u001b[0m \u001b[93m■\u001b[0m \u001b[93m■\u001b[0m  \u001b[94m■\u001b[0m \u001b[38;5;216m■\u001b[0m\n",
      "    \u001b[38;5;216m■\u001b[0m \u001b[92m■\u001b[0m\n",
      "    \u001b[38;5;216m■\u001b[0m \u001b[92m■\u001b[0m\n",
      "\n",
      "    \u001b[92m■\u001b[0m \u001b[94m■\u001b[0m\n",
      "    \u001b[92m■\u001b[0m \u001b[94m■\u001b[0m\n",
      "\u001b[97m■\u001b[0m \u001b[97m■\u001b[0m \u001b[38;5;216m■\u001b[0m \u001b[91m■\u001b[0m \u001b[93m■\u001b[0m \u001b[93m■\u001b[0m  \u001b[91m■\u001b[0m \u001b[38;5;216m■\u001b[0m\n",
      "\u001b[97m■\u001b[0m \u001b[97m■\u001b[0m \u001b[38;5;216m■\u001b[0m \u001b[91m■\u001b[0m \u001b[93m■\u001b[0m \u001b[93m■\u001b[0m  \u001b[91m■\u001b[0m \u001b[38;5;216m■\u001b[0m\n",
      "    \u001b[94m■\u001b[0m \u001b[92m■\u001b[0m\n",
      "    \u001b[94m■\u001b[0m \u001b[92m■\u001b[0m\n",
      "\n",
      "    \u001b[38;5;216m■\u001b[0m \u001b[94m■\u001b[0m\n",
      "    \u001b[38;5;216m■\u001b[0m \u001b[94m■\u001b[0m\n",
      "\u001b[97m■\u001b[0m \u001b[97m■\u001b[0m \u001b[94m■\u001b[0m \u001b[91m■\u001b[0m \u001b[93m■\u001b[0m \u001b[93m■\u001b[0m  \u001b[92m■\u001b[0m \u001b[38;5;216m■\u001b[0m\n",
      "\u001b[97m■\u001b[0m \u001b[97m■\u001b[0m \u001b[94m■\u001b[0m \u001b[91m■\u001b[0m \u001b[93m■\u001b[0m \u001b[93m■\u001b[0m  \u001b[92m■\u001b[0m \u001b[38;5;216m■\u001b[0m\n",
      "    \u001b[91m■\u001b[0m \u001b[92m■\u001b[0m\n",
      "    \u001b[91m■\u001b[0m \u001b[92m■\u001b[0m\n",
      "\n"
     ]
    }
   ],
   "source": [
    "cube.reset()\n",
    "print(cube.move(\"x0\"))\n",
    "for _ in range(4):\n",
    "    # sleep(2)\n",
    "    # clear_output(wait=True)\n",
    "    print(cube.move(\"x0'\"), flush=True)"
   ]
  },
  {
   "cell_type": "code",
   "execution_count": 6,
   "metadata": {},
   "outputs": [
    {
     "name": "stdout",
     "output_type": "stream",
     "text": [
      "    \u001b[30m■\u001b[0m \u001b[30m■\u001b[0m\n",
      "    \u001b[94m■\u001b[0m \u001b[38;5;216m■\u001b[0m\n",
      "\u001b[30m■\u001b[0m \u001b[97m■\u001b[0m \u001b[30m■\u001b[0m \u001b[91m■\u001b[0m \u001b[93m■\u001b[0m \u001b[30m■\u001b[0m  \u001b[30m■\u001b[0m \u001b[30m■\u001b[0m\n",
      "\u001b[30m■\u001b[0m \u001b[38;5;216m■\u001b[0m \u001b[91m■\u001b[0m \u001b[91m■\u001b[0m \u001b[38;5;216m■\u001b[0m \u001b[30m■\u001b[0m  \u001b[30m■\u001b[0m \u001b[30m■\u001b[0m\n",
      "    \u001b[92m■\u001b[0m \u001b[38;5;216m■\u001b[0m\n",
      "    \u001b[30m■\u001b[0m \u001b[30m■\u001b[0m\n",
      "\n",
      "    \u001b[30m■\u001b[0m \u001b[30m■\u001b[0m\n",
      "    \u001b[30m■\u001b[0m \u001b[38;5;216m■\u001b[0m\n",
      "\u001b[30m■\u001b[0m \u001b[30m■\u001b[0m \u001b[30m■\u001b[0m \u001b[91m■\u001b[0m \u001b[93m■\u001b[0m \u001b[30m■\u001b[0m  \u001b[92m■\u001b[0m \u001b[30m■\u001b[0m\n",
      "\u001b[38;5;216m■\u001b[0m \u001b[97m■\u001b[0m \u001b[94m■\u001b[0m \u001b[91m■\u001b[0m \u001b[38;5;216m■\u001b[0m \u001b[30m■\u001b[0m  \u001b[30m■\u001b[0m \u001b[30m■\u001b[0m\n",
      "    \u001b[30m■\u001b[0m \u001b[38;5;216m■\u001b[0m\n",
      "    \u001b[91m■\u001b[0m \u001b[30m■\u001b[0m\n",
      "\n",
      "    \u001b[92m■\u001b[0m \u001b[30m■\u001b[0m\n",
      "    \u001b[30m■\u001b[0m \u001b[38;5;216m■\u001b[0m\n",
      "\u001b[38;5;216m■\u001b[0m \u001b[30m■\u001b[0m \u001b[30m■\u001b[0m \u001b[91m■\u001b[0m \u001b[93m■\u001b[0m \u001b[30m■\u001b[0m  \u001b[30m■\u001b[0m \u001b[30m■\u001b[0m\n",
      "\u001b[97m■\u001b[0m \u001b[30m■\u001b[0m \u001b[30m■\u001b[0m \u001b[91m■\u001b[0m \u001b[38;5;216m■\u001b[0m \u001b[30m■\u001b[0m  \u001b[91m■\u001b[0m \u001b[30m■\u001b[0m\n",
      "    \u001b[30m■\u001b[0m \u001b[38;5;216m■\u001b[0m\n",
      "    \u001b[94m■\u001b[0m \u001b[30m■\u001b[0m\n",
      "\n",
      "    \u001b[30m■\u001b[0m \u001b[30m■\u001b[0m\n",
      "    \u001b[91m■\u001b[0m \u001b[38;5;216m■\u001b[0m\n",
      "\u001b[97m■\u001b[0m \u001b[38;5;216m■\u001b[0m \u001b[92m■\u001b[0m \u001b[91m■\u001b[0m \u001b[93m■\u001b[0m \u001b[30m■\u001b[0m  \u001b[30m■\u001b[0m \u001b[30m■\u001b[0m\n",
      "\u001b[30m■\u001b[0m \u001b[30m■\u001b[0m \u001b[30m■\u001b[0m \u001b[91m■\u001b[0m \u001b[38;5;216m■\u001b[0m \u001b[30m■\u001b[0m  \u001b[94m■\u001b[0m \u001b[30m■\u001b[0m\n",
      "    \u001b[30m■\u001b[0m \u001b[38;5;216m■\u001b[0m\n",
      "    \u001b[30m■\u001b[0m \u001b[30m■\u001b[0m\n",
      "\n",
      "    \u001b[30m■\u001b[0m \u001b[30m■\u001b[0m\n",
      "    \u001b[94m■\u001b[0m \u001b[38;5;216m■\u001b[0m\n",
      "\u001b[30m■\u001b[0m \u001b[97m■\u001b[0m \u001b[30m■\u001b[0m \u001b[91m■\u001b[0m \u001b[93m■\u001b[0m \u001b[30m■\u001b[0m  \u001b[30m■\u001b[0m \u001b[30m■\u001b[0m\n",
      "\u001b[30m■\u001b[0m \u001b[38;5;216m■\u001b[0m \u001b[91m■\u001b[0m \u001b[91m■\u001b[0m \u001b[38;5;216m■\u001b[0m \u001b[30m■\u001b[0m  \u001b[30m■\u001b[0m \u001b[30m■\u001b[0m\n",
      "    \u001b[92m■\u001b[0m \u001b[38;5;216m■\u001b[0m\n",
      "    \u001b[30m■\u001b[0m \u001b[30m■\u001b[0m\n",
      "\n"
     ]
    }
   ],
   "source": [
    "data = [\n",
    "    # [rubiks.Colors.RED]*4,\n",
    "    # [rubiks.BackgroundColors.RED.value.with_content(\"0\"), ...]\n",
    "    [rubiks.Colors.BLACK, rubiks.Colors.RED,\n",
    "     rubiks.Colors.RED, rubiks.Colors.RED],\n",
    "    [rubiks.Colors.BLACK, rubiks.Colors.BLACK,\n",
    "     rubiks.Colors.BLACK, rubiks.Colors.BLACK],\n",
    "\n",
    "    [rubiks.Colors.BLACK, rubiks.Colors.BLACK,\n",
    "     rubiks.Colors.BLUE, rubiks.Colors.ORANGE],\n",
    "    [rubiks.Colors.GREEN, rubiks.Colors.ORANGE,\n",
    "     rubiks.Colors.BLACK, rubiks.Colors.BLACK],\n",
    "\n",
    "    [rubiks.Colors.BLACK, rubiks.Colors.WHITE,\n",
    "     rubiks.Colors.BLACK, rubiks.Colors.ORANGE],\n",
    "    [rubiks.Colors.YELLOW, rubiks.Colors.BLACK,\n",
    "     rubiks.Colors.ORANGE, rubiks.Colors.BLACK],\n",
    "]\n",
    "c = Cube(data=data)\n",
    "print(c)\n",
    "print(c.move(\"x0\"))\n",
    "print(c.move(\"x0\"))\n",
    "print(c.move(\"x0\"))\n",
    "print(c.move(\"x0\"))"
   ]
  },
  {
   "cell_type": "code",
   "execution_count": 21,
   "metadata": {},
   "outputs": [
    {
     "data": {
      "text/plain": [
       "[2, 0, 2, 0, 3, 1, 3, 1, 1, 2, 1, 2, 0, 3, 0, 3, 4, 4, 4, 4, 5, 5, 5, 5]"
      ]
     },
     "execution_count": 21,
     "metadata": {},
     "output_type": "execute_result"
    }
   ],
   "source": [
    "cube.to_vector()"
   ]
  }
 ],
 "metadata": {
  "kernelspec": {
   "display_name": "mute",
   "language": "python",
   "name": "python3"
  },
  "language_info": {
   "codemirror_mode": {
    "name": "ipython",
    "version": 3
   },
   "file_extension": ".py",
   "mimetype": "text/x-python",
   "name": "python",
   "nbconvert_exporter": "python",
   "pygments_lexer": "ipython3",
   "version": "3.11.3"
  },
  "orig_nbformat": 4
 },
 "nbformat": 4,
 "nbformat_minor": 2
}
