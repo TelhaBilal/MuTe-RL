{
 "cells": [
  {
   "cell_type": "code",
   "execution_count": 1,
   "metadata": {},
   "outputs": [
    {
     "name": "stderr",
     "output_type": "stream",
     "text": [
      "/Users/mudassar.iqbal/.virtualenvs/mute/lib/python3.11/site-packages/tqdm/auto.py:21: TqdmWarning: IProgress not found. Please update jupyter and ipywidgets. See https://ipywidgets.readthedocs.io/en/stable/user_install.html\n",
      "  from .autonotebook import tqdm as notebook_tqdm\n"
     ]
    }
   ],
   "source": [
    "from MuTe_RL.simulations import rubiks\n",
    "from MuTe_RL.simulations.rubiks import cube\n",
    "\n",
    "from MuTe_RL.models import rubiks as model_rubiks\n",
    "from MuTe_RL.models.rubiks import look_ahead\n",
    "\n",
    "from importlib import reload\n",
    "reload(cube), reload(rubiks), reload(model_rubiks), reload(look_ahead)\n",
    "\n",
    "from MuTe_RL.simulations.rubiks import Cube\n",
    "from MuTe_RL.models.rubiks import search_best_paths, score_actions\n",
    "\n",
    "from IPython.display import clear_output\n",
    "from copy import deepcopy\n",
    "import numpy as np\n",
    "from time import sleep\n",
    "None"
   ]
  },
  {
   "attachments": {},
   "cell_type": "markdown",
   "metadata": {},
   "source": [
    "# Simulation"
   ]
  },
  {
   "cell_type": "code",
   "execution_count": 2,
   "metadata": {},
   "outputs": [
    {
     "name": "stdout",
     "output_type": "stream",
     "text": [
      "               \u001b[44m0 \u001b[0m \u001b[44m1 \u001b[0m \u001b[44m2 \u001b[0m \u001b[44m3 \u001b[0m \u001b[44m4 \u001b[0m\n",
      "               \u001b[44m5 \u001b[0m \u001b[44m6 \u001b[0m \u001b[44m7 \u001b[0m \u001b[44m8 \u001b[0m \u001b[44m9 \u001b[0m\n",
      "               \u001b[44m10\u001b[0m \u001b[44m11\u001b[0m \u001b[44m12\u001b[0m \u001b[44m13\u001b[0m \u001b[44m14\u001b[0m\n",
      "               \u001b[44m15\u001b[0m \u001b[44m16\u001b[0m \u001b[44m17\u001b[0m \u001b[44m18\u001b[0m \u001b[44m19\u001b[0m\n",
      "               \u001b[44m20\u001b[0m \u001b[44m21\u001b[0m \u001b[44m22\u001b[0m \u001b[44m23\u001b[0m \u001b[44m24\u001b[0m\n",
      "\u001b[48;5;15m0 \u001b[0m \u001b[48;5;15m1 \u001b[0m \u001b[48;5;15m2 \u001b[0m \u001b[48;5;15m3 \u001b[0m \u001b[48;5;15m4 \u001b[0m \u001b[41m0 \u001b[0m \u001b[41m1 \u001b[0m \u001b[41m2 \u001b[0m \u001b[41m3 \u001b[0m \u001b[41m4 \u001b[0m \u001b[43m0 \u001b[0m \u001b[43m1 \u001b[0m \u001b[43m2 \u001b[0m \u001b[43m3 \u001b[0m \u001b[43m4 \u001b[0m \u001b[48;5;208m0 \u001b[0m \u001b[48;5;208m1 \u001b[0m \u001b[48;5;208m2 \u001b[0m \u001b[48;5;208m3 \u001b[0m \u001b[48;5;208m4 \u001b[0m\n",
      "\u001b[48;5;15m5 \u001b[0m \u001b[48;5;15m6 \u001b[0m \u001b[48;5;15m7 \u001b[0m \u001b[48;5;15m8 \u001b[0m \u001b[48;5;15m9 \u001b[0m \u001b[41m5 \u001b[0m \u001b[41m6 \u001b[0m \u001b[41m7 \u001b[0m \u001b[41m8 \u001b[0m \u001b[41m9 \u001b[0m \u001b[43m5 \u001b[0m \u001b[43m6 \u001b[0m \u001b[43m7 \u001b[0m \u001b[43m8 \u001b[0m \u001b[43m9 \u001b[0m \u001b[48;5;208m5 \u001b[0m \u001b[48;5;208m6 \u001b[0m \u001b[48;5;208m7 \u001b[0m \u001b[48;5;208m8 \u001b[0m \u001b[48;5;208m9 \u001b[0m\n",
      "\u001b[48;5;15m10\u001b[0m \u001b[48;5;15m11\u001b[0m \u001b[48;5;15m12\u001b[0m \u001b[48;5;15m13\u001b[0m \u001b[48;5;15m14\u001b[0m \u001b[41m10\u001b[0m \u001b[41m11\u001b[0m \u001b[41m12\u001b[0m \u001b[41m13\u001b[0m \u001b[41m14\u001b[0m \u001b[43m10\u001b[0m \u001b[43m11\u001b[0m \u001b[43m12\u001b[0m \u001b[43m13\u001b[0m \u001b[43m14\u001b[0m \u001b[48;5;208m10\u001b[0m \u001b[48;5;208m11\u001b[0m \u001b[48;5;208m12\u001b[0m \u001b[48;5;208m13\u001b[0m \u001b[48;5;208m14\u001b[0m\n",
      "\u001b[48;5;15m15\u001b[0m \u001b[48;5;15m16\u001b[0m \u001b[48;5;15m17\u001b[0m \u001b[48;5;15m18\u001b[0m \u001b[48;5;15m19\u001b[0m \u001b[41m15\u001b[0m \u001b[41m16\u001b[0m \u001b[41m17\u001b[0m \u001b[41m18\u001b[0m \u001b[41m19\u001b[0m \u001b[43m15\u001b[0m \u001b[43m16\u001b[0m \u001b[43m17\u001b[0m \u001b[43m18\u001b[0m \u001b[43m19\u001b[0m \u001b[48;5;208m15\u001b[0m \u001b[48;5;208m16\u001b[0m \u001b[48;5;208m17\u001b[0m \u001b[48;5;208m18\u001b[0m \u001b[48;5;208m19\u001b[0m\n",
      "\u001b[48;5;15m20\u001b[0m \u001b[48;5;15m21\u001b[0m \u001b[48;5;15m22\u001b[0m \u001b[48;5;15m23\u001b[0m \u001b[48;5;15m24\u001b[0m \u001b[41m20\u001b[0m \u001b[41m21\u001b[0m \u001b[41m22\u001b[0m \u001b[41m23\u001b[0m \u001b[41m24\u001b[0m \u001b[43m20\u001b[0m \u001b[43m21\u001b[0m \u001b[43m22\u001b[0m \u001b[43m23\u001b[0m \u001b[43m24\u001b[0m \u001b[48;5;208m20\u001b[0m \u001b[48;5;208m21\u001b[0m \u001b[48;5;208m22\u001b[0m \u001b[48;5;208m23\u001b[0m \u001b[48;5;208m24\u001b[0m\n",
      "               \u001b[42m0 \u001b[0m \u001b[42m1 \u001b[0m \u001b[42m2 \u001b[0m \u001b[42m3 \u001b[0m \u001b[42m4 \u001b[0m\n",
      "               \u001b[42m5 \u001b[0m \u001b[42m6 \u001b[0m \u001b[42m7 \u001b[0m \u001b[42m8 \u001b[0m \u001b[42m9 \u001b[0m\n",
      "               \u001b[42m10\u001b[0m \u001b[42m11\u001b[0m \u001b[42m12\u001b[0m \u001b[42m13\u001b[0m \u001b[42m14\u001b[0m\n",
      "               \u001b[42m15\u001b[0m \u001b[42m16\u001b[0m \u001b[42m17\u001b[0m \u001b[42m18\u001b[0m \u001b[42m19\u001b[0m\n",
      "               \u001b[42m20\u001b[0m \u001b[42m21\u001b[0m \u001b[42m22\u001b[0m \u001b[42m23\u001b[0m \u001b[42m24\u001b[0m\n",
      "\n"
     ]
    },
    {
     "data": {
      "text/plain": [
       "               \u001b[44m0 \u001b[0m \u001b[44m1 \u001b[0m \u001b[44m2 \u001b[0m \u001b[44m3 \u001b[0m \u001b[44m4 \u001b[0m\n",
       "               \u001b[44m5 \u001b[0m \u001b[44m6 \u001b[0m \u001b[44m7 \u001b[0m \u001b[44m8 \u001b[0m \u001b[44m9 \u001b[0m\n",
       "               \u001b[44m10\u001b[0m \u001b[44m11\u001b[0m \u001b[44m12\u001b[0m \u001b[44m13\u001b[0m \u001b[44m14\u001b[0m\n",
       "               \u001b[44m15\u001b[0m \u001b[48;5;15m16\u001b[0m \u001b[44m17\u001b[0m \u001b[44m18\u001b[0m \u001b[44m19\u001b[0m\n",
       "               \u001b[44m20\u001b[0m \u001b[44m21\u001b[0m \u001b[44m22\u001b[0m \u001b[44m23\u001b[0m \u001b[44m24\u001b[0m\n",
       "\u001b[48;5;15m0 \u001b[0m \u001b[48;5;15m1 \u001b[0m \u001b[48;5;15m2 \u001b[0m \u001b[48;5;15m3 \u001b[0m \u001b[48;5;15m4 \u001b[0m \u001b[41m0 \u001b[0m \u001b[41m1 \u001b[0m \u001b[41m2 \u001b[0m \u001b[41m3 \u001b[0m \u001b[41m4 \u001b[0m \u001b[43m0 \u001b[0m \u001b[43m1 \u001b[0m \u001b[43m2 \u001b[0m \u001b[43m3 \u001b[0m \u001b[43m4 \u001b[0m \u001b[48;5;208m0 \u001b[0m \u001b[48;5;208m1 \u001b[0m \u001b[48;5;208m2 \u001b[0m \u001b[48;5;208m3 \u001b[0m \u001b[48;5;208m4 \u001b[0m\n",
       "\u001b[48;5;15m5 \u001b[0m \u001b[48;5;15m6 \u001b[0m \u001b[48;5;15m7 \u001b[0m \u001b[48;5;15m8 \u001b[0m \u001b[48;5;15m9 \u001b[0m \u001b[41m5 \u001b[0m \u001b[41m6 \u001b[0m \u001b[41m7 \u001b[0m \u001b[41m8 \u001b[0m \u001b[41m9 \u001b[0m \u001b[43m5 \u001b[0m \u001b[43m6 \u001b[0m \u001b[43m7 \u001b[0m \u001b[43m8 \u001b[0m \u001b[43m9 \u001b[0m \u001b[48;5;208m5 \u001b[0m \u001b[48;5;208m6 \u001b[0m \u001b[48;5;208m7 \u001b[0m \u001b[48;5;208m8 \u001b[0m \u001b[48;5;208m9 \u001b[0m\n",
       "\u001b[48;5;15m10\u001b[0m \u001b[48;5;15m11\u001b[0m \u001b[48;5;15m12\u001b[0m \u001b[48;5;15m13\u001b[0m \u001b[48;5;15m14\u001b[0m \u001b[41m10\u001b[0m \u001b[41m11\u001b[0m \u001b[41m12\u001b[0m \u001b[41m13\u001b[0m \u001b[41m14\u001b[0m \u001b[43m10\u001b[0m \u001b[43m11\u001b[0m \u001b[43m12\u001b[0m \u001b[43m13\u001b[0m \u001b[43m14\u001b[0m \u001b[48;5;208m10\u001b[0m \u001b[48;5;208m11\u001b[0m \u001b[48;5;208m12\u001b[0m \u001b[48;5;208m13\u001b[0m \u001b[48;5;208m14\u001b[0m\n",
       "\u001b[48;5;15m15\u001b[0m \u001b[41m16\u001b[0m \u001b[48;5;15m17\u001b[0m \u001b[48;5;15m18\u001b[0m \u001b[48;5;15m19\u001b[0m \u001b[41m15\u001b[0m \u001b[44m16\u001b[0m \u001b[41m17\u001b[0m \u001b[41m18\u001b[0m \u001b[41m19\u001b[0m \u001b[43m15\u001b[0m \u001b[43m16\u001b[0m \u001b[43m17\u001b[0m \u001b[48;5;208m18\u001b[0m \u001b[43m19\u001b[0m \u001b[48;5;208m15\u001b[0m \u001b[48;5;208m16\u001b[0m \u001b[48;5;208m17\u001b[0m \u001b[42m6 \u001b[0m \u001b[48;5;208m19\u001b[0m\n",
       "\u001b[48;5;15m20\u001b[0m \u001b[48;5;15m21\u001b[0m \u001b[48;5;15m22\u001b[0m \u001b[48;5;15m23\u001b[0m \u001b[48;5;15m24\u001b[0m \u001b[41m20\u001b[0m \u001b[41m21\u001b[0m \u001b[41m22\u001b[0m \u001b[41m23\u001b[0m \u001b[41m24\u001b[0m \u001b[43m20\u001b[0m \u001b[43m21\u001b[0m \u001b[43m22\u001b[0m \u001b[43m23\u001b[0m \u001b[43m24\u001b[0m \u001b[48;5;208m20\u001b[0m \u001b[48;5;208m21\u001b[0m \u001b[48;5;208m22\u001b[0m \u001b[48;5;208m23\u001b[0m \u001b[48;5;208m24\u001b[0m\n",
       "               \u001b[42m0 \u001b[0m \u001b[42m1 \u001b[0m \u001b[42m2 \u001b[0m \u001b[42m3 \u001b[0m \u001b[42m4 \u001b[0m\n",
       "               \u001b[42m5 \u001b[0m \u001b[43m18\u001b[0m \u001b[42m7 \u001b[0m \u001b[42m8 \u001b[0m \u001b[42m9 \u001b[0m\n",
       "               \u001b[42m10\u001b[0m \u001b[42m11\u001b[0m \u001b[42m12\u001b[0m \u001b[42m13\u001b[0m \u001b[42m14\u001b[0m\n",
       "               \u001b[42m15\u001b[0m \u001b[42m16\u001b[0m \u001b[42m17\u001b[0m \u001b[42m18\u001b[0m \u001b[42m19\u001b[0m\n",
       "               \u001b[42m20\u001b[0m \u001b[42m21\u001b[0m \u001b[42m22\u001b[0m \u001b[42m23\u001b[0m \u001b[42m24\u001b[0m"
      ]
     },
     "execution_count": 2,
     "metadata": {},
     "output_type": "execute_result"
    }
   ],
   "source": [
    "c = Cube(n_layers=5, numbered=True)\n",
    "# check for impossible corners or edge pieces after shuffle\n",
    "print(c)\n",
    "c.move(\"x1\")\n",
    "c.move(\"y1\")\n",
    "c.move(\"x1'\")\n",
    "c.move(\"y1'\")"
   ]
  },
  {
   "cell_type": "code",
   "execution_count": 9,
   "metadata": {},
   "outputs": [
    {
     "data": {
      "text/plain": [
       "0.16666666666666666"
      ]
     },
     "execution_count": 9,
     "metadata": {},
     "output_type": "execute_result"
    }
   ],
   "source": [
    "c.shuffle().fraction_solved()"
   ]
  },
  {
   "cell_type": "code",
   "execution_count": 15,
   "metadata": {},
   "outputs": [
    {
     "data": {
      "text/plain": [
       "['x0', 'y0', 'x6', 'y6', 'x1', 'y1', 'x5', 'y5', 'x2', 'y2', 'x4', 'y4']"
      ]
     },
     "execution_count": 15,
     "metadata": {},
     "output_type": "execute_result"
    }
   ],
   "source": [
    "[\n",
    "    f\"{axis}{j}\"\n",
    "    for i in range(0,int((n+1)/2))\n",
    "\n",
    "    # add symitry\n",
    "    for j in {i, n-1-i}\n",
    "    for axis in [\"x\",\"y\",\"\"]\n",
    "\n",
    "    if j not in [int(n/2)]\n",
    "]"
   ]
  },
  {
   "cell_type": "code",
   "execution_count": 18,
   "metadata": {},
   "outputs": [
    {
     "data": {
      "text/plain": [
       "(              \u001b[93m■\u001b[0m \u001b[30m■\u001b[0m \u001b[30m■\u001b[0m \u001b[94m■\u001b[0m \u001b[30m■\u001b[0m \u001b[30m■\u001b[0m \u001b[92m■\u001b[0m\n",
       "               \u001b[30m■\u001b[0m \u001b[30m■\u001b[0m \u001b[30m■\u001b[0m \u001b[30m■\u001b[0m \u001b[30m■\u001b[0m \u001b[30m■\u001b[0m \u001b[30m■\u001b[0m\n",
       "               \u001b[30m■\u001b[0m \u001b[30m■\u001b[0m \u001b[30m■\u001b[0m \u001b[30m■\u001b[0m \u001b[30m■\u001b[0m \u001b[30m■\u001b[0m \u001b[30m■\u001b[0m\n",
       "               \u001b[97m■\u001b[0m \u001b[30m■\u001b[0m \u001b[30m■\u001b[0m \u001b[91m■\u001b[0m \u001b[30m■\u001b[0m \u001b[30m■\u001b[0m \u001b[38;5;216m■\u001b[0m\n",
       "               \u001b[30m■\u001b[0m \u001b[30m■\u001b[0m \u001b[30m■\u001b[0m \u001b[30m■\u001b[0m \u001b[30m■\u001b[0m \u001b[30m■\u001b[0m \u001b[30m■\u001b[0m\n",
       "               \u001b[30m■\u001b[0m \u001b[30m■\u001b[0m \u001b[30m■\u001b[0m \u001b[30m■\u001b[0m \u001b[30m■\u001b[0m \u001b[30m■\u001b[0m \u001b[30m■\u001b[0m\n",
       "               \u001b[92m■\u001b[0m \u001b[30m■\u001b[0m \u001b[30m■\u001b[0m \u001b[38;5;216m■\u001b[0m \u001b[30m■\u001b[0m \u001b[30m■\u001b[0m \u001b[91m■\u001b[0m\n",
       " \u001b[91m■\u001b[0m \u001b[30m■\u001b[0m \u001b[30m■\u001b[0m \u001b[92m■\u001b[0m \u001b[30m■\u001b[0m \u001b[30m■\u001b[0m \u001b[93m■\u001b[0m \u001b[91m■\u001b[0m \u001b[30m■\u001b[0m \u001b[30m■\u001b[0m \u001b[94m■\u001b[0m \u001b[30m■\u001b[0m \u001b[30m■\u001b[0m \u001b[97m■\u001b[0m \u001b[92m■\u001b[0m \u001b[30m■\u001b[0m \u001b[30m■\u001b[0m \u001b[93m■\u001b[0m \u001b[30m■\u001b[0m \u001b[30m■\u001b[0m \u001b[97m■\u001b[0m \u001b[38;5;216m■\u001b[0m \u001b[30m■\u001b[0m \u001b[30m■\u001b[0m \u001b[97m■\u001b[0m \u001b[30m■\u001b[0m \u001b[30m■\u001b[0m \u001b[94m■\u001b[0m\n",
       " \u001b[30m■\u001b[0m \u001b[30m■\u001b[0m \u001b[30m■\u001b[0m \u001b[30m■\u001b[0m \u001b[30m■\u001b[0m \u001b[30m■\u001b[0m \u001b[30m■\u001b[0m \u001b[30m■\u001b[0m \u001b[30m■\u001b[0m \u001b[30m■\u001b[0m \u001b[30m■\u001b[0m \u001b[30m■\u001b[0m \u001b[30m■\u001b[0m \u001b[30m■\u001b[0m \u001b[30m■\u001b[0m \u001b[30m■\u001b[0m \u001b[30m■\u001b[0m \u001b[30m■\u001b[0m \u001b[30m■\u001b[0m \u001b[30m■\u001b[0m \u001b[30m■\u001b[0m \u001b[30m■\u001b[0m \u001b[30m■\u001b[0m \u001b[30m■\u001b[0m \u001b[30m■\u001b[0m \u001b[30m■\u001b[0m \u001b[30m■\u001b[0m \u001b[30m■\u001b[0m\n",
       " \u001b[30m■\u001b[0m \u001b[30m■\u001b[0m \u001b[30m■\u001b[0m \u001b[30m■\u001b[0m \u001b[30m■\u001b[0m \u001b[30m■\u001b[0m \u001b[30m■\u001b[0m \u001b[30m■\u001b[0m \u001b[30m■\u001b[0m \u001b[30m■\u001b[0m \u001b[30m■\u001b[0m \u001b[30m■\u001b[0m \u001b[30m■\u001b[0m \u001b[30m■\u001b[0m \u001b[30m■\u001b[0m \u001b[30m■\u001b[0m \u001b[30m■\u001b[0m \u001b[30m■\u001b[0m \u001b[30m■\u001b[0m \u001b[30m■\u001b[0m \u001b[30m■\u001b[0m \u001b[30m■\u001b[0m \u001b[30m■\u001b[0m \u001b[30m■\u001b[0m \u001b[30m■\u001b[0m \u001b[30m■\u001b[0m \u001b[30m■\u001b[0m \u001b[30m■\u001b[0m\n",
       " \u001b[92m■\u001b[0m \u001b[30m■\u001b[0m \u001b[30m■\u001b[0m \u001b[94m■\u001b[0m \u001b[30m■\u001b[0m \u001b[30m■\u001b[0m \u001b[97m■\u001b[0m \u001b[38;5;216m■\u001b[0m \u001b[30m■\u001b[0m \u001b[30m■\u001b[0m \u001b[97m■\u001b[0m \u001b[30m■\u001b[0m \u001b[30m■\u001b[0m \u001b[94m■\u001b[0m \u001b[93m■\u001b[0m \u001b[30m■\u001b[0m \u001b[30m■\u001b[0m \u001b[92m■\u001b[0m \u001b[30m■\u001b[0m \u001b[30m■\u001b[0m \u001b[97m■\u001b[0m \u001b[91m■\u001b[0m \u001b[30m■\u001b[0m \u001b[30m■\u001b[0m \u001b[93m■\u001b[0m \u001b[30m■\u001b[0m \u001b[30m■\u001b[0m \u001b[93m■\u001b[0m\n",
       " \u001b[30m■\u001b[0m \u001b[30m■\u001b[0m \u001b[30m■\u001b[0m \u001b[30m■\u001b[0m \u001b[30m■\u001b[0m \u001b[30m■\u001b[0m \u001b[30m■\u001b[0m \u001b[30m■\u001b[0m \u001b[30m■\u001b[0m \u001b[30m■\u001b[0m \u001b[30m■\u001b[0m \u001b[30m■\u001b[0m \u001b[30m■\u001b[0m \u001b[30m■\u001b[0m \u001b[30m■\u001b[0m \u001b[30m■\u001b[0m \u001b[30m■\u001b[0m \u001b[30m■\u001b[0m \u001b[30m■\u001b[0m \u001b[30m■\u001b[0m \u001b[30m■\u001b[0m \u001b[30m■\u001b[0m \u001b[30m■\u001b[0m \u001b[30m■\u001b[0m \u001b[30m■\u001b[0m \u001b[30m■\u001b[0m \u001b[30m■\u001b[0m \u001b[30m■\u001b[0m\n",
       " \u001b[30m■\u001b[0m \u001b[30m■\u001b[0m \u001b[30m■\u001b[0m \u001b[30m■\u001b[0m \u001b[30m■\u001b[0m \u001b[30m■\u001b[0m \u001b[30m■\u001b[0m \u001b[30m■\u001b[0m \u001b[30m■\u001b[0m \u001b[30m■\u001b[0m \u001b[30m■\u001b[0m \u001b[30m■\u001b[0m \u001b[30m■\u001b[0m \u001b[30m■\u001b[0m \u001b[30m■\u001b[0m \u001b[30m■\u001b[0m \u001b[30m■\u001b[0m \u001b[30m■\u001b[0m \u001b[30m■\u001b[0m \u001b[30m■\u001b[0m \u001b[30m■\u001b[0m \u001b[30m■\u001b[0m \u001b[30m■\u001b[0m \u001b[30m■\u001b[0m \u001b[30m■\u001b[0m \u001b[30m■\u001b[0m \u001b[30m■\u001b[0m \u001b[30m■\u001b[0m\n",
       " \u001b[38;5;216m■\u001b[0m \u001b[30m■\u001b[0m \u001b[30m■\u001b[0m \u001b[92m■\u001b[0m \u001b[30m■\u001b[0m \u001b[30m■\u001b[0m \u001b[94m■\u001b[0m \u001b[97m■\u001b[0m \u001b[30m■\u001b[0m \u001b[30m■\u001b[0m \u001b[91m■\u001b[0m \u001b[30m■\u001b[0m \u001b[30m■\u001b[0m \u001b[97m■\u001b[0m \u001b[94m■\u001b[0m \u001b[30m■\u001b[0m \u001b[30m■\u001b[0m \u001b[91m■\u001b[0m \u001b[30m■\u001b[0m \u001b[30m■\u001b[0m \u001b[38;5;216m■\u001b[0m \u001b[93m■\u001b[0m \u001b[30m■\u001b[0m \u001b[30m■\u001b[0m \u001b[92m■\u001b[0m \u001b[30m■\u001b[0m \u001b[30m■\u001b[0m \u001b[93m■\u001b[0m\n",
       "               \u001b[38;5;216m■\u001b[0m \u001b[30m■\u001b[0m \u001b[30m■\u001b[0m \u001b[93m■\u001b[0m \u001b[30m■\u001b[0m \u001b[30m■\u001b[0m \u001b[91m■\u001b[0m\n",
       "               \u001b[30m■\u001b[0m \u001b[30m■\u001b[0m \u001b[30m■\u001b[0m \u001b[30m■\u001b[0m \u001b[30m■\u001b[0m \u001b[30m■\u001b[0m \u001b[30m■\u001b[0m\n",
       "               \u001b[30m■\u001b[0m \u001b[30m■\u001b[0m \u001b[30m■\u001b[0m \u001b[30m■\u001b[0m \u001b[30m■\u001b[0m \u001b[30m■\u001b[0m \u001b[30m■\u001b[0m\n",
       "               \u001b[38;5;216m■\u001b[0m \u001b[30m■\u001b[0m \u001b[30m■\u001b[0m \u001b[38;5;216m■\u001b[0m \u001b[30m■\u001b[0m \u001b[30m■\u001b[0m \u001b[94m■\u001b[0m\n",
       "               \u001b[30m■\u001b[0m \u001b[30m■\u001b[0m \u001b[30m■\u001b[0m \u001b[30m■\u001b[0m \u001b[30m■\u001b[0m \u001b[30m■\u001b[0m \u001b[30m■\u001b[0m\n",
       "               \u001b[30m■\u001b[0m \u001b[30m■\u001b[0m \u001b[30m■\u001b[0m \u001b[30m■\u001b[0m \u001b[30m■\u001b[0m \u001b[30m■\u001b[0m \u001b[30m■\u001b[0m\n",
       "               \u001b[92m■\u001b[0m \u001b[30m■\u001b[0m \u001b[30m■\u001b[0m \u001b[91m■\u001b[0m \u001b[30m■\u001b[0m \u001b[30m■\u001b[0m \u001b[94m■\u001b[0m,\n",
       " 0.14814814814814814)"
      ]
     },
     "execution_count": 18,
     "metadata": {},
     "output_type": "execute_result"
    }
   ],
   "source": [
    "n = 7\n",
    "kyoob = Cube(n_layers=n, numbered=False, disabled_layers={\n",
    "    f\"{axis}{j}\"\n",
    "    for i in range(1,int((n+1)/2))\n",
    "\n",
    "    # add symmetry\n",
    "    for j in {i, n-1-i}\n",
    "    for axis in [\"x\", \"y\", \"z\"]\n",
    "\n",
    "    if j not in [int(n/2)]\n",
    "})\n",
    "kyoob.shuffle(), kyoob.fraction_solved()"
   ]
  },
  {
   "cell_type": "code",
   "execution_count": 9,
   "metadata": {},
   "outputs": [
    {
     "name": "stdout",
     "output_type": "stream",
     "text": [
      "['x0', \"x0'\", 'y0', \"y0'\", 'z0', \"z0'\", 'x3', \"x3'\", 'y3', \"y3'\", 'z3', \"z3'\", 'x6', \"x6'\", 'y6', \"y6'\", 'z6', \"z6'\"]\n"
     ]
    }
   ],
   "source": [
    "print(kyoob.possible_moves())"
   ]
  },
  {
   "cell_type": "code",
   "execution_count": 41,
   "metadata": {},
   "outputs": [
    {
     "data": {
      "text/plain": [
       "[1, 3, 3, 2, 1, 5, 2, 5, 2, 4, 5, 2, 6, 4, 1, 4, 3, 4, 3, 1, 6, 6, 5, 6]"
      ]
     },
     "execution_count": 41,
     "metadata": {},
     "output_type": "execute_result"
    }
   ],
   "source": [
    "c.to_vector()"
   ]
  },
  {
   "cell_type": "code",
   "execution_count": 3,
   "metadata": {},
   "outputs": [
    {
     "data": {
      "text/plain": [
       "True"
      ]
     },
     "execution_count": 3,
     "metadata": {},
     "output_type": "execute_result"
    }
   ],
   "source": [
    "c.reset().move(\"x0\").move(\"x0'\").is_solved()"
   ]
  },
  {
   "cell_type": "code",
   "execution_count": 16,
   "metadata": {},
   "outputs": [
    {
     "data": {
      "text/plain": [
       "0.2916666666666667"
      ]
     },
     "execution_count": 16,
     "metadata": {},
     "output_type": "execute_result"
    }
   ],
   "source": [
    "c.reset().shuffle().fraction_solved()"
   ]
  },
  {
   "cell_type": "code",
   "execution_count": 7,
   "metadata": {},
   "outputs": [
    {
     "data": {
      "text/plain": [
       "['z3', 'y1', 'y0', \"z3'\", \"x2'\"]"
      ]
     },
     "execution_count": 7,
     "metadata": {},
     "output_type": "execute_result"
    }
   ],
   "source": [
    "# z3 y1 y0 z3' x2' y3 y3' --> consecutive opposites popped\n",
    "c.moves_stack"
   ]
  },
  {
   "cell_type": "code",
   "execution_count": 3,
   "metadata": {},
   "outputs": [
    {
     "data": {
      "text/plain": [
       "0.0"
      ]
     },
     "execution_count": 3,
     "metadata": {},
     "output_type": "execute_result"
    }
   ],
   "source": [
    "# entire cube rotation\n",
    "Cube(n_layers=3, numbered=True).move(\"z0\").move(\"z1\").move(\"z2\").fraction_solved()"
   ]
  },
  {
   "attachments": {},
   "cell_type": "markdown",
   "metadata": {},
   "source": [
    "# Models"
   ]
  },
  {
   "cell_type": "code",
   "execution_count": 16,
   "metadata": {},
   "outputs": [
    {
     "data": {
      "text/plain": [
       "               \u001b[48;5;208m24\u001b[0m \u001b[40m15\u001b[0m \u001b[40m10\u001b[0m \u001b[40m5 \u001b[0m \u001b[48;5;208m4 \u001b[0m\n",
       "               \u001b[40m21\u001b[0m \u001b[40m16\u001b[0m \u001b[40m11\u001b[0m \u001b[40m6 \u001b[0m \u001b[40m9 \u001b[0m\n",
       "               \u001b[40m22\u001b[0m \u001b[40m17\u001b[0m \u001b[40m12\u001b[0m \u001b[40m7 \u001b[0m \u001b[40m14\u001b[0m\n",
       "               \u001b[40m23\u001b[0m \u001b[40m18\u001b[0m \u001b[40m13\u001b[0m \u001b[40m8 \u001b[0m \u001b[40m19\u001b[0m\n",
       "               \u001b[41m24\u001b[0m \u001b[40m19\u001b[0m \u001b[40m14\u001b[0m \u001b[40m9 \u001b[0m \u001b[44m24\u001b[0m\n",
       "\u001b[48;5;15m20\u001b[0m \u001b[40m9 \u001b[0m \u001b[40m14\u001b[0m \u001b[40m19\u001b[0m \u001b[42m4 \u001b[0m \u001b[43m20\u001b[0m \u001b[40m15\u001b[0m \u001b[40m10\u001b[0m \u001b[40m5 \u001b[0m \u001b[41m4 \u001b[0m \u001b[43m0 \u001b[0m \u001b[40m15\u001b[0m \u001b[40m10\u001b[0m \u001b[40m5 \u001b[0m \u001b[48;5;15m0 \u001b[0m \u001b[44m0 \u001b[0m \u001b[40m1 \u001b[0m \u001b[40m2 \u001b[0m \u001b[40m3 \u001b[0m \u001b[42m20\u001b[0m\n",
       "\u001b[40m19\u001b[0m \u001b[40m6 \u001b[0m \u001b[40m7 \u001b[0m \u001b[40m8 \u001b[0m \u001b[40m23\u001b[0m \u001b[40m3 \u001b[0m \u001b[40m8 \u001b[0m \u001b[40m13\u001b[0m \u001b[40m18\u001b[0m \u001b[40m23\u001b[0m \u001b[40m21\u001b[0m \u001b[40m6 \u001b[0m \u001b[40m7 \u001b[0m \u001b[40m8 \u001b[0m \u001b[40m1 \u001b[0m \u001b[40m3 \u001b[0m \u001b[40m18\u001b[0m \u001b[40m17\u001b[0m \u001b[40m16\u001b[0m \u001b[40m15\u001b[0m\n",
       "\u001b[40m14\u001b[0m \u001b[40m11\u001b[0m \u001b[40m12\u001b[0m \u001b[40m13\u001b[0m \u001b[40m22\u001b[0m \u001b[40m2 \u001b[0m \u001b[40m7 \u001b[0m \u001b[40m12\u001b[0m \u001b[40m17\u001b[0m \u001b[40m22\u001b[0m \u001b[40m22\u001b[0m \u001b[40m11\u001b[0m \u001b[40m12\u001b[0m \u001b[40m13\u001b[0m \u001b[40m2 \u001b[0m \u001b[40m2 \u001b[0m \u001b[40m13\u001b[0m \u001b[40m12\u001b[0m \u001b[40m11\u001b[0m \u001b[40m10\u001b[0m\n",
       "\u001b[40m9 \u001b[0m \u001b[40m16\u001b[0m \u001b[40m17\u001b[0m \u001b[40m18\u001b[0m \u001b[40m21\u001b[0m \u001b[40m1 \u001b[0m \u001b[40m6 \u001b[0m \u001b[40m11\u001b[0m \u001b[40m16\u001b[0m \u001b[40m21\u001b[0m \u001b[40m23\u001b[0m \u001b[40m16\u001b[0m \u001b[40m17\u001b[0m \u001b[40m18\u001b[0m \u001b[40m3 \u001b[0m \u001b[40m1 \u001b[0m \u001b[40m8 \u001b[0m \u001b[40m7 \u001b[0m \u001b[40m6 \u001b[0m \u001b[40m5 \u001b[0m\n",
       "\u001b[48;5;15m24\u001b[0m \u001b[40m19\u001b[0m \u001b[40m14\u001b[0m \u001b[40m9 \u001b[0m \u001b[42m24\u001b[0m \u001b[43m24\u001b[0m \u001b[40m21\u001b[0m \u001b[40m22\u001b[0m \u001b[40m23\u001b[0m \u001b[44m20\u001b[0m \u001b[41m0 \u001b[0m \u001b[40m5 \u001b[0m \u001b[40m10\u001b[0m \u001b[40m15\u001b[0m \u001b[44m4 \u001b[0m \u001b[48;5;208m0 \u001b[0m \u001b[40m3 \u001b[0m \u001b[40m2 \u001b[0m \u001b[40m1 \u001b[0m \u001b[42m0 \u001b[0m\n",
       "               \u001b[48;5;208m20\u001b[0m \u001b[40m15\u001b[0m \u001b[40m10\u001b[0m \u001b[40m5 \u001b[0m \u001b[48;5;15m4 \u001b[0m\n",
       "               \u001b[40m3 \u001b[0m \u001b[40m16\u001b[0m \u001b[40m11\u001b[0m \u001b[40m6 \u001b[0m \u001b[40m9 \u001b[0m\n",
       "               \u001b[40m2 \u001b[0m \u001b[40m17\u001b[0m \u001b[40m12\u001b[0m \u001b[40m7 \u001b[0m \u001b[40m14\u001b[0m\n",
       "               \u001b[40m1 \u001b[0m \u001b[40m18\u001b[0m \u001b[40m13\u001b[0m \u001b[40m8 \u001b[0m \u001b[40m19\u001b[0m\n",
       "               \u001b[41m20\u001b[0m \u001b[40m21\u001b[0m \u001b[40m22\u001b[0m \u001b[40m23\u001b[0m \u001b[43m4 \u001b[0m"
      ]
     },
     "execution_count": 16,
     "metadata": {},
     "output_type": "execute_result"
    }
   ],
   "source": [
    "n=5\n",
    "c = Cube(n_layers=n, numbered=True, disabled_layers = {\n",
    "    f\"{axis}{j}\"\n",
    "    for i in range(1,int((n+1)/2))\n",
    "\n",
    "    # add symmetry\n",
    "    for j in {i, n-1-i}\n",
    "    for axis in [\"x\", \"y\", \"z\"]\n",
    "\n",
    "#     if j not in [int(n/2)]\n",
    "})\n",
    "moves = c.possible_moves*10\n",
    "look_ahead.random.shuffle(moves)\n",
    "for move_id in moves[:15]:\n",
    "        c.move(move_id)\n",
    "c"
   ]
  },
  {
   "cell_type": "code",
   "execution_count": 3,
   "metadata": {},
   "outputs": [],
   "source": [
    "def remove_cycles(actions):\n",
    "    def complementary(action_1, action_2):\n",
    "        return action_1.strip(\"'\") == action_2.strip(\"'\") and (\n",
    "                (action_1[-1] == \"'\" and action_2[-1] != \"'\")\n",
    "                or (action_1[-1] != \"'\" and action_2[-1] == \"'\")\n",
    "            )\n",
    "\n",
    "    if (\n",
    "        len(actions) > 1 and\n",
    "        # opposite moves\n",
    "        complementary(actions[-1], actions[-2])\n",
    "    ):\n",
    "        actions = actions[:-2]\n",
    "    if (\n",
    "        len(actions) > 3 and\n",
    "        # 360 degree rotation\n",
    "        len(set(actions[-4:]))==1\n",
    "    ):\n",
    "        actions = actions[:-4]\n",
    "\n",
    "    return actions"
   ]
  },
  {
   "cell_type": "code",
   "execution_count": 18,
   "metadata": {},
   "outputs": [
    {
     "name": "stdout",
     "output_type": "stream",
     "text": [
      "['z4', \"x4'\", 'z4', 'z4', 'y4', \"z4'\", \"y4'\", \"z0'\", 'x4', \"y4'\", 'y0']\n"
     ]
    },
    {
     "name": "stderr",
     "output_type": "stream",
     "text": [
      "                                               \r"
     ]
    },
    {
     "data": {
      "text/plain": [
       "[(0.35310855259289087,\n",
       "  ((\"x0'\", \"x0'\", \"z4'\", \"y0'\", 'x0', 'z4', \"y4'\", \"z4'\", 'z0'),\n",
       "                  \u001b[48;5;15m4 \u001b[0m \u001b[40m1 \u001b[0m \u001b[40m2 \u001b[0m \u001b[40m3 \u001b[0m \u001b[44m4 \u001b[0m\n",
       "                  \u001b[40m19\u001b[0m \u001b[40m18\u001b[0m \u001b[40m17\u001b[0m \u001b[40m16\u001b[0m \u001b[40m23\u001b[0m\n",
       "                  \u001b[40m14\u001b[0m \u001b[40m13\u001b[0m \u001b[40m12\u001b[0m \u001b[40m11\u001b[0m \u001b[40m22\u001b[0m\n",
       "                  \u001b[40m9 \u001b[0m \u001b[40m8 \u001b[0m \u001b[40m7 \u001b[0m \u001b[40m6 \u001b[0m \u001b[40m21\u001b[0m\n",
       "                  \u001b[48;5;15m24\u001b[0m \u001b[40m19\u001b[0m \u001b[40m14\u001b[0m \u001b[40m9 \u001b[0m \u001b[41m4 \u001b[0m\n",
       "   \u001b[44m20\u001b[0m \u001b[40m15\u001b[0m \u001b[40m10\u001b[0m \u001b[40m5 \u001b[0m \u001b[42m0 \u001b[0m \u001b[41m20\u001b[0m \u001b[40m1 \u001b[0m \u001b[40m2 \u001b[0m \u001b[40m3 \u001b[0m \u001b[43m0 \u001b[0m \u001b[44m24\u001b[0m \u001b[40m15\u001b[0m \u001b[40m10\u001b[0m \u001b[40m5 \u001b[0m \u001b[43m4 \u001b[0m \u001b[48;5;208m0 \u001b[0m \u001b[40m1 \u001b[0m \u001b[40m2 \u001b[0m \u001b[40m3 \u001b[0m \u001b[41m0 \u001b[0m\n",
       "   \u001b[40m3 \u001b[0m \u001b[40m8 \u001b[0m \u001b[40m13\u001b[0m \u001b[40m18\u001b[0m \u001b[40m9 \u001b[0m \u001b[40m5 \u001b[0m \u001b[40m6 \u001b[0m \u001b[40m7 \u001b[0m \u001b[40m8 \u001b[0m \u001b[40m15\u001b[0m \u001b[40m19\u001b[0m \u001b[40m6 \u001b[0m \u001b[40m7 \u001b[0m \u001b[40m8 \u001b[0m \u001b[40m23\u001b[0m \u001b[40m3 \u001b[0m \u001b[40m8 \u001b[0m \u001b[40m13\u001b[0m \u001b[40m18\u001b[0m \u001b[40m15\u001b[0m\n",
       "   \u001b[40m2 \u001b[0m \u001b[40m7 \u001b[0m \u001b[40m12\u001b[0m \u001b[40m17\u001b[0m \u001b[40m14\u001b[0m \u001b[40m10\u001b[0m \u001b[40m11\u001b[0m \u001b[40m12\u001b[0m \u001b[40m13\u001b[0m \u001b[40m10\u001b[0m \u001b[40m14\u001b[0m \u001b[40m11\u001b[0m \u001b[40m12\u001b[0m \u001b[40m13\u001b[0m \u001b[40m22\u001b[0m \u001b[40m2 \u001b[0m \u001b[40m7 \u001b[0m \u001b[40m12\u001b[0m \u001b[40m17\u001b[0m \u001b[40m10\u001b[0m\n",
       "   \u001b[40m1 \u001b[0m \u001b[40m6 \u001b[0m \u001b[40m11\u001b[0m \u001b[40m16\u001b[0m \u001b[40m19\u001b[0m \u001b[40m15\u001b[0m \u001b[40m16\u001b[0m \u001b[40m17\u001b[0m \u001b[40m18\u001b[0m \u001b[40m5 \u001b[0m \u001b[40m9 \u001b[0m \u001b[40m16\u001b[0m \u001b[40m17\u001b[0m \u001b[40m18\u001b[0m \u001b[40m21\u001b[0m \u001b[40m1 \u001b[0m \u001b[40m6 \u001b[0m \u001b[40m11\u001b[0m \u001b[40m16\u001b[0m \u001b[40m5 \u001b[0m\n",
       "   \u001b[44m0 \u001b[0m \u001b[40m19\u001b[0m \u001b[40m14\u001b[0m \u001b[40m9 \u001b[0m \u001b[42m4 \u001b[0m \u001b[41m24\u001b[0m \u001b[40m21\u001b[0m \u001b[40m22\u001b[0m \u001b[40m23\u001b[0m \u001b[48;5;15m20\u001b[0m \u001b[42m20\u001b[0m \u001b[40m3 \u001b[0m \u001b[40m2 \u001b[0m \u001b[40m1 \u001b[0m \u001b[43m24\u001b[0m \u001b[48;5;208m20\u001b[0m \u001b[40m19\u001b[0m \u001b[40m14\u001b[0m \u001b[40m9 \u001b[0m \u001b[48;5;208m4 \u001b[0m\n",
       "                  \u001b[43m20\u001b[0m \u001b[40m23\u001b[0m \u001b[40m22\u001b[0m \u001b[40m21\u001b[0m \u001b[48;5;208m24\u001b[0m\n",
       "                  \u001b[40m5 \u001b[0m \u001b[40m6 \u001b[0m \u001b[40m7 \u001b[0m \u001b[40m8 \u001b[0m \u001b[40m23\u001b[0m\n",
       "                  \u001b[40m10\u001b[0m \u001b[40m11\u001b[0m \u001b[40m12\u001b[0m \u001b[40m13\u001b[0m \u001b[40m22\u001b[0m\n",
       "                  \u001b[40m15\u001b[0m \u001b[40m16\u001b[0m \u001b[40m17\u001b[0m \u001b[40m18\u001b[0m \u001b[40m21\u001b[0m\n",
       "                  \u001b[48;5;15m0 \u001b[0m \u001b[40m21\u001b[0m \u001b[40m22\u001b[0m \u001b[40m23\u001b[0m \u001b[42m24\u001b[0m)),\n",
       " (0.5335822239583333,\n",
       "  (('x0', \"z4'\", 'x0', 'x0', 'z0'),\n",
       "                  \u001b[43m20\u001b[0m \u001b[40m1 \u001b[0m \u001b[40m2 \u001b[0m \u001b[40m3 \u001b[0m \u001b[44m4 \u001b[0m\n",
       "                  \u001b[40m3 \u001b[0m \u001b[40m16\u001b[0m \u001b[40m11\u001b[0m \u001b[40m6 \u001b[0m \u001b[40m9 \u001b[0m\n",
       "                  \u001b[40m2 \u001b[0m \u001b[40m17\u001b[0m \u001b[40m12\u001b[0m \u001b[40m7 \u001b[0m \u001b[40m14\u001b[0m\n",
       "                  \u001b[40m1 \u001b[0m \u001b[40m18\u001b[0m \u001b[40m13\u001b[0m \u001b[40m8 \u001b[0m \u001b[40m19\u001b[0m\n",
       "                  \u001b[48;5;208m4 \u001b[0m \u001b[40m5 \u001b[0m \u001b[40m10\u001b[0m \u001b[40m15\u001b[0m \u001b[42m0 \u001b[0m\n",
       "   \u001b[42m4 \u001b[0m \u001b[40m23\u001b[0m \u001b[40m22\u001b[0m \u001b[40m21\u001b[0m \u001b[48;5;15m0 \u001b[0m \u001b[44m0 \u001b[0m \u001b[40m1 \u001b[0m \u001b[40m2 \u001b[0m \u001b[40m3 \u001b[0m \u001b[41m20\u001b[0m \u001b[48;5;15m24\u001b[0m \u001b[40m15\u001b[0m \u001b[40m10\u001b[0m \u001b[40m5 \u001b[0m \u001b[43m4 \u001b[0m \u001b[48;5;208m0 \u001b[0m \u001b[40m1 \u001b[0m \u001b[40m2 \u001b[0m \u001b[40m3 \u001b[0m \u001b[41m24\u001b[0m\n",
       "   \u001b[40m19\u001b[0m \u001b[40m8 \u001b[0m \u001b[40m13\u001b[0m \u001b[40m18\u001b[0m \u001b[40m15\u001b[0m \u001b[40m21\u001b[0m \u001b[40m6 \u001b[0m \u001b[40m7 \u001b[0m \u001b[40m8 \u001b[0m \u001b[40m15\u001b[0m \u001b[40m19\u001b[0m \u001b[40m6 \u001b[0m \u001b[40m7 \u001b[0m \u001b[40m8 \u001b[0m \u001b[40m23\u001b[0m \u001b[40m3 \u001b[0m \u001b[40m8 \u001b[0m \u001b[40m13\u001b[0m \u001b[40m18\u001b[0m \u001b[40m23\u001b[0m\n",
       "   \u001b[40m14\u001b[0m \u001b[40m7 \u001b[0m \u001b[40m12\u001b[0m \u001b[40m17\u001b[0m \u001b[40m10\u001b[0m \u001b[40m22\u001b[0m \u001b[40m11\u001b[0m \u001b[40m12\u001b[0m \u001b[40m13\u001b[0m \u001b[40m10\u001b[0m \u001b[40m14\u001b[0m \u001b[40m11\u001b[0m \u001b[40m12\u001b[0m \u001b[40m13\u001b[0m \u001b[40m22\u001b[0m \u001b[40m2 \u001b[0m \u001b[40m7 \u001b[0m \u001b[40m12\u001b[0m \u001b[40m17\u001b[0m \u001b[40m22\u001b[0m\n",
       "   \u001b[40m9 \u001b[0m \u001b[40m6 \u001b[0m \u001b[40m11\u001b[0m \u001b[40m16\u001b[0m \u001b[40m5 \u001b[0m \u001b[40m23\u001b[0m \u001b[40m16\u001b[0m \u001b[40m17\u001b[0m \u001b[40m18\u001b[0m \u001b[40m5 \u001b[0m \u001b[40m9 \u001b[0m \u001b[40m16\u001b[0m \u001b[40m17\u001b[0m \u001b[40m18\u001b[0m \u001b[40m21\u001b[0m \u001b[40m1 \u001b[0m \u001b[40m6 \u001b[0m \u001b[40m11\u001b[0m \u001b[40m16\u001b[0m \u001b[40m21\u001b[0m\n",
       "   \u001b[48;5;15m20\u001b[0m \u001b[40m19\u001b[0m \u001b[40m14\u001b[0m \u001b[40m9 \u001b[0m \u001b[48;5;15m4 \u001b[0m \u001b[44m20\u001b[0m \u001b[40m21\u001b[0m \u001b[40m22\u001b[0m \u001b[40m23\u001b[0m \u001b[41m4 \u001b[0m \u001b[44m24\u001b[0m \u001b[40m5 \u001b[0m \u001b[40m10\u001b[0m \u001b[40m15\u001b[0m \u001b[43m24\u001b[0m \u001b[48;5;208m20\u001b[0m \u001b[40m3 \u001b[0m \u001b[40m2 \u001b[0m \u001b[40m1 \u001b[0m \u001b[48;5;208m24\u001b[0m\n",
       "                  \u001b[41m0 \u001b[0m \u001b[40m23\u001b[0m \u001b[40m22\u001b[0m \u001b[40m21\u001b[0m \u001b[43m0 \u001b[0m\n",
       "                  \u001b[40m5 \u001b[0m \u001b[40m16\u001b[0m \u001b[40m11\u001b[0m \u001b[40m6 \u001b[0m \u001b[40m9 \u001b[0m\n",
       "                  \u001b[40m10\u001b[0m \u001b[40m17\u001b[0m \u001b[40m12\u001b[0m \u001b[40m7 \u001b[0m \u001b[40m14\u001b[0m\n",
       "                  \u001b[40m15\u001b[0m \u001b[40m18\u001b[0m \u001b[40m13\u001b[0m \u001b[40m8 \u001b[0m \u001b[40m19\u001b[0m\n",
       "                  \u001b[42m20\u001b[0m \u001b[40m19\u001b[0m \u001b[40m14\u001b[0m \u001b[40m9 \u001b[0m \u001b[42m24\u001b[0m)),\n",
       " (0.5548142427717003,\n",
       "  ((\"x0'\", \"y4'\", 'z4', \"x4'\", 'z4', 'z4', \"y4'\", 'z4', \"x4'\", \"x4'\"),\n",
       "                  \u001b[44m0 \u001b[0m \u001b[40m1 \u001b[0m \u001b[40m2 \u001b[0m \u001b[40m3 \u001b[0m \u001b[42m4 \u001b[0m\n",
       "                  \u001b[40m19\u001b[0m \u001b[40m8 \u001b[0m \u001b[40m13\u001b[0m \u001b[40m18\u001b[0m \u001b[40m23\u001b[0m\n",
       "                  \u001b[40m14\u001b[0m \u001b[40m7 \u001b[0m \u001b[40m12\u001b[0m \u001b[40m17\u001b[0m \u001b[40m22\u001b[0m\n",
       "                  \u001b[40m9 \u001b[0m \u001b[40m6 \u001b[0m \u001b[40m11\u001b[0m \u001b[40m16\u001b[0m \u001b[40m21\u001b[0m\n",
       "                  \u001b[44m20\u001b[0m \u001b[40m21\u001b[0m \u001b[40m22\u001b[0m \u001b[40m23\u001b[0m \u001b[48;5;208m20\u001b[0m\n",
       "   \u001b[48;5;15m0 \u001b[0m \u001b[40m15\u001b[0m \u001b[40m10\u001b[0m \u001b[40m5 \u001b[0m \u001b[48;5;15m4 \u001b[0m \u001b[41m0 \u001b[0m \u001b[40m23\u001b[0m \u001b[40m22\u001b[0m \u001b[40m21\u001b[0m \u001b[43m24\u001b[0m \u001b[42m24\u001b[0m \u001b[40m1 \u001b[0m \u001b[40m2 \u001b[0m \u001b[40m3 \u001b[0m \u001b[43m20\u001b[0m \u001b[41m24\u001b[0m \u001b[40m15\u001b[0m \u001b[40m10\u001b[0m \u001b[40m5 \u001b[0m \u001b[48;5;208m4 \u001b[0m\n",
       "   \u001b[40m19\u001b[0m \u001b[40m8 \u001b[0m \u001b[40m13\u001b[0m \u001b[40m18\u001b[0m \u001b[40m9 \u001b[0m \u001b[40m3 \u001b[0m \u001b[40m8 \u001b[0m \u001b[40m13\u001b[0m \u001b[40m18\u001b[0m \u001b[40m15\u001b[0m \u001b[40m19\u001b[0m \u001b[40m8 \u001b[0m \u001b[40m13\u001b[0m \u001b[40m18\u001b[0m \u001b[40m15\u001b[0m \u001b[40m19\u001b[0m \u001b[40m18\u001b[0m \u001b[40m17\u001b[0m \u001b[40m16\u001b[0m \u001b[40m23\u001b[0m\n",
       "   \u001b[40m14\u001b[0m \u001b[40m7 \u001b[0m \u001b[40m12\u001b[0m \u001b[40m17\u001b[0m \u001b[40m14\u001b[0m \u001b[40m2 \u001b[0m \u001b[40m7 \u001b[0m \u001b[40m12\u001b[0m \u001b[40m17\u001b[0m \u001b[40m10\u001b[0m \u001b[40m14\u001b[0m \u001b[40m7 \u001b[0m \u001b[40m12\u001b[0m \u001b[40m17\u001b[0m \u001b[40m10\u001b[0m \u001b[40m14\u001b[0m \u001b[40m13\u001b[0m \u001b[40m12\u001b[0m \u001b[40m11\u001b[0m \u001b[40m22\u001b[0m\n",
       "   \u001b[40m9 \u001b[0m \u001b[40m6 \u001b[0m \u001b[40m11\u001b[0m \u001b[40m16\u001b[0m \u001b[40m19\u001b[0m \u001b[40m1 \u001b[0m \u001b[40m6 \u001b[0m \u001b[40m11\u001b[0m \u001b[40m16\u001b[0m \u001b[40m5 \u001b[0m \u001b[40m9 \u001b[0m \u001b[40m6 \u001b[0m \u001b[40m11\u001b[0m \u001b[40m16\u001b[0m \u001b[40m5 \u001b[0m \u001b[40m9 \u001b[0m \u001b[40m8 \u001b[0m \u001b[40m7 \u001b[0m \u001b[40m6 \u001b[0m \u001b[40m21\u001b[0m\n",
       "   \u001b[48;5;15m20\u001b[0m \u001b[40m19\u001b[0m \u001b[40m14\u001b[0m \u001b[40m9 \u001b[0m \u001b[48;5;15m24\u001b[0m \u001b[41m20\u001b[0m \u001b[40m21\u001b[0m \u001b[40m22\u001b[0m \u001b[40m23\u001b[0m \u001b[41m4 \u001b[0m \u001b[44m24\u001b[0m \u001b[40m3 \u001b[0m \u001b[40m2 \u001b[0m \u001b[40m1 \u001b[0m \u001b[48;5;208m0 \u001b[0m \u001b[43m4 \u001b[0m \u001b[40m3 \u001b[0m \u001b[40m2 \u001b[0m \u001b[40m1 \u001b[0m \u001b[48;5;208m24\u001b[0m\n",
       "                  \u001b[42m0 \u001b[0m \u001b[40m15\u001b[0m \u001b[40m10\u001b[0m \u001b[40m5 \u001b[0m \u001b[43m0 \u001b[0m\n",
       "                  \u001b[40m5 \u001b[0m \u001b[40m16\u001b[0m \u001b[40m11\u001b[0m \u001b[40m6 \u001b[0m \u001b[40m1 \u001b[0m\n",
       "                  \u001b[40m10\u001b[0m \u001b[40m17\u001b[0m \u001b[40m12\u001b[0m \u001b[40m7 \u001b[0m \u001b[40m2 \u001b[0m\n",
       "                  \u001b[40m15\u001b[0m \u001b[40m18\u001b[0m \u001b[40m13\u001b[0m \u001b[40m8 \u001b[0m \u001b[40m3 \u001b[0m\n",
       "                  \u001b[42m20\u001b[0m \u001b[40m21\u001b[0m \u001b[40m22\u001b[0m \u001b[40m23\u001b[0m \u001b[44m4 \u001b[0m)),\n",
       " (0.5604042754190048,\n",
       "  (('z0', 'y4', \"x0'\", 'x4', \"z4'\", 'x4', 'y4', 'y4', 'y4', \"z0'\"),\n",
       "                  \u001b[44m20\u001b[0m \u001b[40m23\u001b[0m \u001b[40m22\u001b[0m \u001b[40m21\u001b[0m \u001b[44m4 \u001b[0m\n",
       "                  \u001b[40m21\u001b[0m \u001b[40m16\u001b[0m \u001b[40m11\u001b[0m \u001b[40m6 \u001b[0m \u001b[40m15\u001b[0m\n",
       "                  \u001b[40m22\u001b[0m \u001b[40m17\u001b[0m \u001b[40m12\u001b[0m \u001b[40m7 \u001b[0m \u001b[40m10\u001b[0m\n",
       "                  \u001b[40m23\u001b[0m \u001b[40m18\u001b[0m \u001b[40m13\u001b[0m \u001b[40m8 \u001b[0m \u001b[40m5 \u001b[0m\n",
       "                  \u001b[44m0 \u001b[0m \u001b[40m3 \u001b[0m \u001b[40m2 \u001b[0m \u001b[40m1 \u001b[0m \u001b[43m20\u001b[0m\n",
       "   \u001b[41m0 \u001b[0m \u001b[40m9 \u001b[0m \u001b[40m14\u001b[0m \u001b[40m19\u001b[0m \u001b[48;5;208m4 \u001b[0m \u001b[48;5;15m0 \u001b[0m \u001b[40m1 \u001b[0m \u001b[40m2 \u001b[0m \u001b[40m3 \u001b[0m \u001b[41m24\u001b[0m \u001b[42m4 \u001b[0m \u001b[40m9 \u001b[0m \u001b[40m14\u001b[0m \u001b[40m19\u001b[0m \u001b[43m4 \u001b[0m \u001b[48;5;208m0 \u001b[0m \u001b[40m15\u001b[0m \u001b[40m10\u001b[0m \u001b[40m5 \u001b[0m \u001b[48;5;15m4 \u001b[0m\n",
       "   \u001b[40m19\u001b[0m \u001b[40m8 \u001b[0m \u001b[40m13\u001b[0m \u001b[40m18\u001b[0m \u001b[40m1 \u001b[0m \u001b[40m21\u001b[0m \u001b[40m8 \u001b[0m \u001b[40m13\u001b[0m \u001b[40m18\u001b[0m \u001b[40m23\u001b[0m \u001b[40m21\u001b[0m \u001b[40m18\u001b[0m \u001b[40m17\u001b[0m \u001b[40m16\u001b[0m \u001b[40m9 \u001b[0m \u001b[40m5 \u001b[0m \u001b[40m8 \u001b[0m \u001b[40m13\u001b[0m \u001b[40m18\u001b[0m \u001b[40m15\u001b[0m\n",
       "   \u001b[40m14\u001b[0m \u001b[40m7 \u001b[0m \u001b[40m12\u001b[0m \u001b[40m17\u001b[0m \u001b[40m2 \u001b[0m \u001b[40m22\u001b[0m \u001b[40m7 \u001b[0m \u001b[40m12\u001b[0m \u001b[40m17\u001b[0m \u001b[40m22\u001b[0m \u001b[40m22\u001b[0m \u001b[40m13\u001b[0m \u001b[40m12\u001b[0m \u001b[40m11\u001b[0m \u001b[40m14\u001b[0m \u001b[40m10\u001b[0m \u001b[40m7 \u001b[0m \u001b[40m12\u001b[0m \u001b[40m17\u001b[0m \u001b[40m10\u001b[0m\n",
       "   \u001b[40m9 \u001b[0m \u001b[40m6 \u001b[0m \u001b[40m11\u001b[0m \u001b[40m16\u001b[0m \u001b[40m3 \u001b[0m \u001b[40m23\u001b[0m \u001b[40m6 \u001b[0m \u001b[40m11\u001b[0m \u001b[40m16\u001b[0m \u001b[40m21\u001b[0m \u001b[40m23\u001b[0m \u001b[40m8 \u001b[0m \u001b[40m7 \u001b[0m \u001b[40m6 \u001b[0m \u001b[40m19\u001b[0m \u001b[40m15\u001b[0m \u001b[40m6 \u001b[0m \u001b[40m11\u001b[0m \u001b[40m16\u001b[0m \u001b[40m5 \u001b[0m\n",
       "   \u001b[48;5;15m20\u001b[0m \u001b[40m19\u001b[0m \u001b[40m14\u001b[0m \u001b[40m9 \u001b[0m \u001b[43m0 \u001b[0m \u001b[41m4 \u001b[0m \u001b[40m3 \u001b[0m \u001b[40m2 \u001b[0m \u001b[40m1 \u001b[0m \u001b[41m20\u001b[0m \u001b[42m0 \u001b[0m \u001b[40m3 \u001b[0m \u001b[40m2 \u001b[0m \u001b[40m1 \u001b[0m \u001b[43m24\u001b[0m \u001b[48;5;208m20\u001b[0m \u001b[40m5 \u001b[0m \u001b[40m10\u001b[0m \u001b[40m15\u001b[0m \u001b[48;5;208m24\u001b[0m\n",
       "                  \u001b[44m24\u001b[0m \u001b[40m9 \u001b[0m \u001b[40m14\u001b[0m \u001b[40m19\u001b[0m \u001b[48;5;15m24\u001b[0m\n",
       "                  \u001b[40m5 \u001b[0m \u001b[40m16\u001b[0m \u001b[40m11\u001b[0m \u001b[40m6 \u001b[0m \u001b[40m23\u001b[0m\n",
       "                  \u001b[40m10\u001b[0m \u001b[40m17\u001b[0m \u001b[40m12\u001b[0m \u001b[40m7 \u001b[0m \u001b[40m22\u001b[0m\n",
       "                  \u001b[40m15\u001b[0m \u001b[40m18\u001b[0m \u001b[40m13\u001b[0m \u001b[40m8 \u001b[0m \u001b[40m21\u001b[0m\n",
       "                  \u001b[42m20\u001b[0m \u001b[40m3 \u001b[0m \u001b[40m2 \u001b[0m \u001b[40m1 \u001b[0m \u001b[42m24\u001b[0m)),\n",
       " (0.5632203773055325,\n",
       "  ((\"x0'\", \"y4'\", 'z4', \"x4'\", \"z4'\", \"z4'\", \"y4'\", 'z4', 'z4'),\n",
       "                  \u001b[48;5;15m20\u001b[0m \u001b[40m9 \u001b[0m \u001b[40m14\u001b[0m \u001b[40m19\u001b[0m \u001b[48;5;15m0 \u001b[0m\n",
       "                  \u001b[40m19\u001b[0m \u001b[40m8 \u001b[0m \u001b[40m13\u001b[0m \u001b[40m18\u001b[0m \u001b[40m1 \u001b[0m\n",
       "                  \u001b[40m14\u001b[0m \u001b[40m7 \u001b[0m \u001b[40m12\u001b[0m \u001b[40m17\u001b[0m \u001b[40m2 \u001b[0m\n",
       "                  \u001b[40m9 \u001b[0m \u001b[40m6 \u001b[0m \u001b[40m11\u001b[0m \u001b[40m16\u001b[0m \u001b[40m3 \u001b[0m\n",
       "                  \u001b[44m20\u001b[0m \u001b[40m21\u001b[0m \u001b[40m22\u001b[0m \u001b[40m23\u001b[0m \u001b[44m4 \u001b[0m\n",
       "   \u001b[42m20\u001b[0m \u001b[40m15\u001b[0m \u001b[40m10\u001b[0m \u001b[40m5 \u001b[0m \u001b[48;5;15m4 \u001b[0m \u001b[41m0 \u001b[0m \u001b[40m23\u001b[0m \u001b[40m22\u001b[0m \u001b[40m21\u001b[0m \u001b[43m4 \u001b[0m \u001b[48;5;208m0 \u001b[0m \u001b[40m1 \u001b[0m \u001b[40m2 \u001b[0m \u001b[40m3 \u001b[0m \u001b[44m0 \u001b[0m \u001b[48;5;208m4 \u001b[0m \u001b[40m23\u001b[0m \u001b[40m22\u001b[0m \u001b[40m21\u001b[0m \u001b[48;5;208m24\u001b[0m\n",
       "   \u001b[40m21\u001b[0m \u001b[40m8 \u001b[0m \u001b[40m13\u001b[0m \u001b[40m18\u001b[0m \u001b[40m9 \u001b[0m \u001b[40m3 \u001b[0m \u001b[40m8 \u001b[0m \u001b[40m13\u001b[0m \u001b[40m18\u001b[0m \u001b[40m9 \u001b[0m \u001b[40m5 \u001b[0m \u001b[40m16\u001b[0m \u001b[40m11\u001b[0m \u001b[40m6 \u001b[0m \u001b[40m1 \u001b[0m \u001b[40m5 \u001b[0m \u001b[40m16\u001b[0m \u001b[40m11\u001b[0m \u001b[40m6 \u001b[0m \u001b[40m1 \u001b[0m\n",
       "   \u001b[40m22\u001b[0m \u001b[40m7 \u001b[0m \u001b[40m12\u001b[0m \u001b[40m17\u001b[0m \u001b[40m14\u001b[0m \u001b[40m2 \u001b[0m \u001b[40m7 \u001b[0m \u001b[40m12\u001b[0m \u001b[40m17\u001b[0m \u001b[40m14\u001b[0m \u001b[40m10\u001b[0m \u001b[40m17\u001b[0m \u001b[40m12\u001b[0m \u001b[40m7 \u001b[0m \u001b[40m2 \u001b[0m \u001b[40m10\u001b[0m \u001b[40m17\u001b[0m \u001b[40m12\u001b[0m \u001b[40m7 \u001b[0m \u001b[40m2 \u001b[0m\n",
       "   \u001b[40m23\u001b[0m \u001b[40m6 \u001b[0m \u001b[40m11\u001b[0m \u001b[40m16\u001b[0m \u001b[40m19\u001b[0m \u001b[40m1 \u001b[0m \u001b[40m6 \u001b[0m \u001b[40m11\u001b[0m \u001b[40m16\u001b[0m \u001b[40m19\u001b[0m \u001b[40m15\u001b[0m \u001b[40m18\u001b[0m \u001b[40m13\u001b[0m \u001b[40m8 \u001b[0m \u001b[40m3 \u001b[0m \u001b[40m15\u001b[0m \u001b[40m18\u001b[0m \u001b[40m13\u001b[0m \u001b[40m8 \u001b[0m \u001b[40m3 \u001b[0m\n",
       "   \u001b[48;5;208m20\u001b[0m \u001b[40m19\u001b[0m \u001b[40m14\u001b[0m \u001b[40m9 \u001b[0m \u001b[48;5;15m24\u001b[0m \u001b[41m20\u001b[0m \u001b[40m21\u001b[0m \u001b[40m22\u001b[0m \u001b[40m23\u001b[0m \u001b[41m24\u001b[0m \u001b[43m20\u001b[0m \u001b[40m3 \u001b[0m \u001b[40m2 \u001b[0m \u001b[40m1 \u001b[0m \u001b[43m0 \u001b[0m \u001b[41m4 \u001b[0m \u001b[40m5 \u001b[0m \u001b[40m10\u001b[0m \u001b[40m15\u001b[0m \u001b[43m24\u001b[0m\n",
       "                  \u001b[42m0 \u001b[0m \u001b[40m15\u001b[0m \u001b[40m10\u001b[0m \u001b[40m5 \u001b[0m \u001b[42m4 \u001b[0m\n",
       "                  \u001b[40m5 \u001b[0m \u001b[40m16\u001b[0m \u001b[40m11\u001b[0m \u001b[40m6 \u001b[0m \u001b[40m23\u001b[0m\n",
       "                  \u001b[40m10\u001b[0m \u001b[40m17\u001b[0m \u001b[40m12\u001b[0m \u001b[40m7 \u001b[0m \u001b[40m22\u001b[0m\n",
       "                  \u001b[40m15\u001b[0m \u001b[40m18\u001b[0m \u001b[40m13\u001b[0m \u001b[40m8 \u001b[0m \u001b[40m21\u001b[0m\n",
       "                  \u001b[42m24\u001b[0m \u001b[40m19\u001b[0m \u001b[40m14\u001b[0m \u001b[40m9 \u001b[0m \u001b[44m24\u001b[0m)),\n",
       " (0.5660506304578217,\n",
       "  (('x0', 'x0', \"z4'\", \"y0'\", 'x0', \"z4'\", \"z4'\", \"z4'\"),\n",
       "                  \u001b[44m20\u001b[0m \u001b[40m23\u001b[0m \u001b[40m22\u001b[0m \u001b[40m21\u001b[0m \u001b[42m20\u001b[0m\n",
       "                  \u001b[40m3 \u001b[0m \u001b[40m16\u001b[0m \u001b[40m11\u001b[0m \u001b[40m6 \u001b[0m \u001b[40m9 \u001b[0m\n",
       "                  \u001b[40m2 \u001b[0m \u001b[40m17\u001b[0m \u001b[40m12\u001b[0m \u001b[40m7 \u001b[0m \u001b[40m14\u001b[0m\n",
       "                  \u001b[40m1 \u001b[0m \u001b[40m18\u001b[0m \u001b[40m13\u001b[0m \u001b[40m8 \u001b[0m \u001b[40m19\u001b[0m\n",
       "                  \u001b[44m0 \u001b[0m \u001b[40m19\u001b[0m \u001b[40m14\u001b[0m \u001b[40m9 \u001b[0m \u001b[44m24\u001b[0m\n",
       "   \u001b[41m0 \u001b[0m \u001b[40m15\u001b[0m \u001b[40m10\u001b[0m \u001b[40m5 \u001b[0m \u001b[48;5;208m4 \u001b[0m \u001b[48;5;15m0 \u001b[0m \u001b[40m15\u001b[0m \u001b[40m10\u001b[0m \u001b[40m5 \u001b[0m \u001b[41m4 \u001b[0m \u001b[43m0 \u001b[0m \u001b[40m15\u001b[0m \u001b[40m10\u001b[0m \u001b[40m5 \u001b[0m \u001b[48;5;15m20\u001b[0m \u001b[48;5;208m24\u001b[0m \u001b[40m15\u001b[0m \u001b[40m10\u001b[0m \u001b[40m5 \u001b[0m \u001b[48;5;15m4 \u001b[0m\n",
       "   \u001b[40m21\u001b[0m \u001b[40m8 \u001b[0m \u001b[40m13\u001b[0m \u001b[40m18\u001b[0m \u001b[40m9 \u001b[0m \u001b[40m3 \u001b[0m \u001b[40m8 \u001b[0m \u001b[40m13\u001b[0m \u001b[40m18\u001b[0m \u001b[40m23\u001b[0m \u001b[40m21\u001b[0m \u001b[40m6 \u001b[0m \u001b[40m7 \u001b[0m \u001b[40m8 \u001b[0m \u001b[40m1 \u001b[0m \u001b[40m3 \u001b[0m \u001b[40m18\u001b[0m \u001b[40m17\u001b[0m \u001b[40m16\u001b[0m \u001b[40m9 \u001b[0m\n",
       "   \u001b[40m22\u001b[0m \u001b[40m7 \u001b[0m \u001b[40m12\u001b[0m \u001b[40m17\u001b[0m \u001b[40m14\u001b[0m \u001b[40m2 \u001b[0m \u001b[40m7 \u001b[0m \u001b[40m12\u001b[0m \u001b[40m17\u001b[0m \u001b[40m22\u001b[0m \u001b[40m22\u001b[0m \u001b[40m11\u001b[0m \u001b[40m12\u001b[0m \u001b[40m13\u001b[0m \u001b[40m2 \u001b[0m \u001b[40m2 \u001b[0m \u001b[40m13\u001b[0m \u001b[40m12\u001b[0m \u001b[40m11\u001b[0m \u001b[40m14\u001b[0m\n",
       "   \u001b[40m23\u001b[0m \u001b[40m6 \u001b[0m \u001b[40m11\u001b[0m \u001b[40m16\u001b[0m \u001b[40m19\u001b[0m \u001b[40m1 \u001b[0m \u001b[40m6 \u001b[0m \u001b[40m11\u001b[0m \u001b[40m16\u001b[0m \u001b[40m21\u001b[0m \u001b[40m23\u001b[0m \u001b[40m16\u001b[0m \u001b[40m17\u001b[0m \u001b[40m18\u001b[0m \u001b[40m3 \u001b[0m \u001b[40m1 \u001b[0m \u001b[40m8 \u001b[0m \u001b[40m7 \u001b[0m \u001b[40m6 \u001b[0m \u001b[40m19\u001b[0m\n",
       "   \u001b[42m24\u001b[0m \u001b[40m19\u001b[0m \u001b[40m14\u001b[0m \u001b[40m9 \u001b[0m \u001b[48;5;15m24\u001b[0m \u001b[41m20\u001b[0m \u001b[40m5 \u001b[0m \u001b[40m10\u001b[0m \u001b[40m15\u001b[0m \u001b[41m24\u001b[0m \u001b[43m20\u001b[0m \u001b[40m3 \u001b[0m \u001b[40m2 \u001b[0m \u001b[40m1 \u001b[0m \u001b[44m4 \u001b[0m \u001b[48;5;208m0 \u001b[0m \u001b[40m3 \u001b[0m \u001b[40m2 \u001b[0m \u001b[40m1 \u001b[0m \u001b[48;5;208m20\u001b[0m\n",
       "                  \u001b[42m0 \u001b[0m \u001b[40m9 \u001b[0m \u001b[40m14\u001b[0m \u001b[40m19\u001b[0m \u001b[42m4 \u001b[0m\n",
       "                  \u001b[40m5 \u001b[0m \u001b[40m6 \u001b[0m \u001b[40m7 \u001b[0m \u001b[40m8 \u001b[0m \u001b[40m23\u001b[0m\n",
       "                  \u001b[40m10\u001b[0m \u001b[40m11\u001b[0m \u001b[40m12\u001b[0m \u001b[40m13\u001b[0m \u001b[40m22\u001b[0m\n",
       "                  \u001b[40m15\u001b[0m \u001b[40m16\u001b[0m \u001b[40m17\u001b[0m \u001b[40m18\u001b[0m \u001b[40m21\u001b[0m\n",
       "                  \u001b[43m24\u001b[0m \u001b[40m21\u001b[0m \u001b[40m22\u001b[0m \u001b[40m23\u001b[0m \u001b[43m4 \u001b[0m)),\n",
       " (0.5660506304578217,\n",
       "  (('x0', 'x0', \"z4'\", \"y0'\", 'x0', 'z4', \"y4'\", \"z4'\"),\n",
       "                  \u001b[48;5;15m4 \u001b[0m \u001b[40m1 \u001b[0m \u001b[40m2 \u001b[0m \u001b[40m3 \u001b[0m \u001b[44m4 \u001b[0m\n",
       "                  \u001b[40m19\u001b[0m \u001b[40m18\u001b[0m \u001b[40m17\u001b[0m \u001b[40m16\u001b[0m \u001b[40m23\u001b[0m\n",
       "                  \u001b[40m14\u001b[0m \u001b[40m13\u001b[0m \u001b[40m12\u001b[0m \u001b[40m11\u001b[0m \u001b[40m22\u001b[0m\n",
       "                  \u001b[40m9 \u001b[0m \u001b[40m8 \u001b[0m \u001b[40m7 \u001b[0m \u001b[40m6 \u001b[0m \u001b[40m21\u001b[0m\n",
       "                  \u001b[44m24\u001b[0m \u001b[40m19\u001b[0m \u001b[40m14\u001b[0m \u001b[40m9 \u001b[0m \u001b[42m20\u001b[0m\n",
       "   \u001b[44m20\u001b[0m \u001b[40m15\u001b[0m \u001b[40m10\u001b[0m \u001b[40m5 \u001b[0m \u001b[41m4 \u001b[0m \u001b[43m0 \u001b[0m \u001b[40m15\u001b[0m \u001b[40m10\u001b[0m \u001b[40m5 \u001b[0m \u001b[48;5;15m20\u001b[0m \u001b[48;5;208m24\u001b[0m \u001b[40m15\u001b[0m \u001b[40m10\u001b[0m \u001b[40m5 \u001b[0m \u001b[43m4 \u001b[0m \u001b[48;5;208m0 \u001b[0m \u001b[40m1 \u001b[0m \u001b[40m2 \u001b[0m \u001b[40m3 \u001b[0m \u001b[41m0 \u001b[0m\n",
       "   \u001b[40m3 \u001b[0m \u001b[40m8 \u001b[0m \u001b[40m13\u001b[0m \u001b[40m18\u001b[0m \u001b[40m9 \u001b[0m \u001b[40m3 \u001b[0m \u001b[40m8 \u001b[0m \u001b[40m13\u001b[0m \u001b[40m18\u001b[0m \u001b[40m23\u001b[0m \u001b[40m21\u001b[0m \u001b[40m6 \u001b[0m \u001b[40m7 \u001b[0m \u001b[40m8 \u001b[0m \u001b[40m23\u001b[0m \u001b[40m3 \u001b[0m \u001b[40m8 \u001b[0m \u001b[40m13\u001b[0m \u001b[40m18\u001b[0m \u001b[40m15\u001b[0m\n",
       "   \u001b[40m2 \u001b[0m \u001b[40m7 \u001b[0m \u001b[40m12\u001b[0m \u001b[40m17\u001b[0m \u001b[40m14\u001b[0m \u001b[40m2 \u001b[0m \u001b[40m7 \u001b[0m \u001b[40m12\u001b[0m \u001b[40m17\u001b[0m \u001b[40m22\u001b[0m \u001b[40m22\u001b[0m \u001b[40m11\u001b[0m \u001b[40m12\u001b[0m \u001b[40m13\u001b[0m \u001b[40m22\u001b[0m \u001b[40m2 \u001b[0m \u001b[40m7 \u001b[0m \u001b[40m12\u001b[0m \u001b[40m17\u001b[0m \u001b[40m10\u001b[0m\n",
       "   \u001b[40m1 \u001b[0m \u001b[40m6 \u001b[0m \u001b[40m11\u001b[0m \u001b[40m16\u001b[0m \u001b[40m19\u001b[0m \u001b[40m1 \u001b[0m \u001b[40m6 \u001b[0m \u001b[40m11\u001b[0m \u001b[40m16\u001b[0m \u001b[40m21\u001b[0m \u001b[40m23\u001b[0m \u001b[40m16\u001b[0m \u001b[40m17\u001b[0m \u001b[40m18\u001b[0m \u001b[40m21\u001b[0m \u001b[40m1 \u001b[0m \u001b[40m6 \u001b[0m \u001b[40m11\u001b[0m \u001b[40m16\u001b[0m \u001b[40m5 \u001b[0m\n",
       "   \u001b[44m0 \u001b[0m \u001b[40m19\u001b[0m \u001b[40m14\u001b[0m \u001b[40m9 \u001b[0m \u001b[48;5;15m24\u001b[0m \u001b[41m20\u001b[0m \u001b[40m5 \u001b[0m \u001b[40m10\u001b[0m \u001b[40m15\u001b[0m \u001b[41m24\u001b[0m \u001b[43m20\u001b[0m \u001b[40m3 \u001b[0m \u001b[40m2 \u001b[0m \u001b[40m1 \u001b[0m \u001b[43m24\u001b[0m \u001b[48;5;208m20\u001b[0m \u001b[40m19\u001b[0m \u001b[40m14\u001b[0m \u001b[40m9 \u001b[0m \u001b[48;5;208m4 \u001b[0m\n",
       "                  \u001b[42m0 \u001b[0m \u001b[40m9 \u001b[0m \u001b[40m14\u001b[0m \u001b[40m19\u001b[0m \u001b[42m4 \u001b[0m\n",
       "                  \u001b[40m5 \u001b[0m \u001b[40m6 \u001b[0m \u001b[40m7 \u001b[0m \u001b[40m8 \u001b[0m \u001b[40m23\u001b[0m\n",
       "                  \u001b[40m10\u001b[0m \u001b[40m11\u001b[0m \u001b[40m12\u001b[0m \u001b[40m13\u001b[0m \u001b[40m22\u001b[0m\n",
       "                  \u001b[40m15\u001b[0m \u001b[40m16\u001b[0m \u001b[40m17\u001b[0m \u001b[40m18\u001b[0m \u001b[40m21\u001b[0m\n",
       "                  \u001b[48;5;15m0 \u001b[0m \u001b[40m21\u001b[0m \u001b[40m22\u001b[0m \u001b[40m23\u001b[0m \u001b[42m24\u001b[0m)),\n",
       " (0.5688951059877604,\n",
       "  (('x0', 'x0', \"z4'\", \"y0'\", \"z4'\", 'x0', 'z4'),\n",
       "                  \u001b[44m20\u001b[0m \u001b[40m23\u001b[0m \u001b[40m22\u001b[0m \u001b[40m21\u001b[0m \u001b[48;5;15m0 \u001b[0m\n",
       "                  \u001b[40m3 \u001b[0m \u001b[40m16\u001b[0m \u001b[40m11\u001b[0m \u001b[40m6 \u001b[0m \u001b[40m9 \u001b[0m\n",
       "                  \u001b[40m2 \u001b[0m \u001b[40m17\u001b[0m \u001b[40m12\u001b[0m \u001b[40m7 \u001b[0m \u001b[40m14\u001b[0m\n",
       "                  \u001b[40m1 \u001b[0m \u001b[40m18\u001b[0m \u001b[40m13\u001b[0m \u001b[40m8 \u001b[0m \u001b[40m19\u001b[0m\n",
       "                  \u001b[48;5;208m0 \u001b[0m \u001b[40m19\u001b[0m \u001b[40m14\u001b[0m \u001b[40m9 \u001b[0m \u001b[44m24\u001b[0m\n",
       "   \u001b[41m0 \u001b[0m \u001b[40m1 \u001b[0m \u001b[40m2 \u001b[0m \u001b[40m3 \u001b[0m \u001b[44m4 \u001b[0m \u001b[43m4 \u001b[0m \u001b[40m15\u001b[0m \u001b[40m10\u001b[0m \u001b[40m5 \u001b[0m \u001b[41m4 \u001b[0m \u001b[43m0 \u001b[0m \u001b[40m15\u001b[0m \u001b[40m10\u001b[0m \u001b[40m5 \u001b[0m \u001b[44m0 \u001b[0m \u001b[48;5;208m4 \u001b[0m \u001b[40m15\u001b[0m \u001b[40m10\u001b[0m \u001b[40m5 \u001b[0m \u001b[48;5;15m4 \u001b[0m\n",
       "   \u001b[40m5 \u001b[0m \u001b[40m8 \u001b[0m \u001b[40m13\u001b[0m \u001b[40m18\u001b[0m \u001b[40m9 \u001b[0m \u001b[40m3 \u001b[0m \u001b[40m8 \u001b[0m \u001b[40m13\u001b[0m \u001b[40m18\u001b[0m \u001b[40m23\u001b[0m \u001b[40m21\u001b[0m \u001b[40m6 \u001b[0m \u001b[40m7 \u001b[0m \u001b[40m8 \u001b[0m \u001b[40m23\u001b[0m \u001b[40m3 \u001b[0m \u001b[40m8 \u001b[0m \u001b[40m13\u001b[0m \u001b[40m18\u001b[0m \u001b[40m1 \u001b[0m\n",
       "   \u001b[40m10\u001b[0m \u001b[40m7 \u001b[0m \u001b[40m12\u001b[0m \u001b[40m17\u001b[0m \u001b[40m14\u001b[0m \u001b[40m2 \u001b[0m \u001b[40m7 \u001b[0m \u001b[40m12\u001b[0m \u001b[40m17\u001b[0m \u001b[40m22\u001b[0m \u001b[40m22\u001b[0m \u001b[40m11\u001b[0m \u001b[40m12\u001b[0m \u001b[40m13\u001b[0m \u001b[40m22\u001b[0m \u001b[40m2 \u001b[0m \u001b[40m7 \u001b[0m \u001b[40m12\u001b[0m \u001b[40m17\u001b[0m \u001b[40m2 \u001b[0m\n",
       "   \u001b[40m15\u001b[0m \u001b[40m6 \u001b[0m \u001b[40m11\u001b[0m \u001b[40m16\u001b[0m \u001b[40m19\u001b[0m \u001b[40m1 \u001b[0m \u001b[40m6 \u001b[0m \u001b[40m11\u001b[0m \u001b[40m16\u001b[0m \u001b[40m21\u001b[0m \u001b[40m23\u001b[0m \u001b[40m16\u001b[0m \u001b[40m17\u001b[0m \u001b[40m18\u001b[0m \u001b[40m21\u001b[0m \u001b[40m1 \u001b[0m \u001b[40m6 \u001b[0m \u001b[40m11\u001b[0m \u001b[40m16\u001b[0m \u001b[40m3 \u001b[0m\n",
       "   \u001b[42m20\u001b[0m \u001b[40m19\u001b[0m \u001b[40m14\u001b[0m \u001b[40m9 \u001b[0m \u001b[48;5;15m24\u001b[0m \u001b[41m20\u001b[0m \u001b[40m5 \u001b[0m \u001b[40m10\u001b[0m \u001b[40m15\u001b[0m \u001b[41m24\u001b[0m \u001b[43m20\u001b[0m \u001b[40m3 \u001b[0m \u001b[40m2 \u001b[0m \u001b[40m1 \u001b[0m \u001b[43m24\u001b[0m \u001b[48;5;208m20\u001b[0m \u001b[40m19\u001b[0m \u001b[40m14\u001b[0m \u001b[40m9 \u001b[0m \u001b[48;5;15m20\u001b[0m\n",
       "                  \u001b[42m0 \u001b[0m \u001b[40m9 \u001b[0m \u001b[40m14\u001b[0m \u001b[40m19\u001b[0m \u001b[42m4 \u001b[0m\n",
       "                  \u001b[40m5 \u001b[0m \u001b[40m6 \u001b[0m \u001b[40m7 \u001b[0m \u001b[40m8 \u001b[0m \u001b[40m23\u001b[0m\n",
       "                  \u001b[40m10\u001b[0m \u001b[40m11\u001b[0m \u001b[40m12\u001b[0m \u001b[40m13\u001b[0m \u001b[40m22\u001b[0m\n",
       "                  \u001b[40m15\u001b[0m \u001b[40m16\u001b[0m \u001b[40m17\u001b[0m \u001b[40m18\u001b[0m \u001b[40m21\u001b[0m\n",
       "                  \u001b[48;5;208m24\u001b[0m \u001b[40m21\u001b[0m \u001b[40m22\u001b[0m \u001b[40m23\u001b[0m \u001b[42m24\u001b[0m)),\n",
       " (0.5717538753645833,\n",
       "  (('x0', 'x0', \"z4'\", \"y0'\", \"z4'\", 'x0'),\n",
       "                  \u001b[44m0 \u001b[0m \u001b[40m23\u001b[0m \u001b[40m22\u001b[0m \u001b[40m21\u001b[0m \u001b[43m24\u001b[0m\n",
       "                  \u001b[40m3 \u001b[0m \u001b[40m16\u001b[0m \u001b[40m11\u001b[0m \u001b[40m6 \u001b[0m \u001b[40m9 \u001b[0m\n",
       "                  \u001b[40m2 \u001b[0m \u001b[40m17\u001b[0m \u001b[40m12\u001b[0m \u001b[40m7 \u001b[0m \u001b[40m14\u001b[0m\n",
       "                  \u001b[40m1 \u001b[0m \u001b[40m18\u001b[0m \u001b[40m13\u001b[0m \u001b[40m8 \u001b[0m \u001b[40m19\u001b[0m\n",
       "                  \u001b[48;5;208m0 \u001b[0m \u001b[40m19\u001b[0m \u001b[40m14\u001b[0m \u001b[40m9 \u001b[0m \u001b[44m24\u001b[0m\n",
       "   \u001b[48;5;15m0 \u001b[0m \u001b[40m1 \u001b[0m \u001b[40m2 \u001b[0m \u001b[40m3 \u001b[0m \u001b[44m4 \u001b[0m \u001b[43m4 \u001b[0m \u001b[40m15\u001b[0m \u001b[40m10\u001b[0m \u001b[40m5 \u001b[0m \u001b[41m4 \u001b[0m \u001b[43m0 \u001b[0m \u001b[40m15\u001b[0m \u001b[40m10\u001b[0m \u001b[40m5 \u001b[0m \u001b[42m24\u001b[0m \u001b[48;5;208m20\u001b[0m \u001b[40m1 \u001b[0m \u001b[40m2 \u001b[0m \u001b[40m3 \u001b[0m \u001b[48;5;208m4 \u001b[0m\n",
       "   \u001b[40m21\u001b[0m \u001b[40m8 \u001b[0m \u001b[40m13\u001b[0m \u001b[40m18\u001b[0m \u001b[40m9 \u001b[0m \u001b[40m3 \u001b[0m \u001b[40m8 \u001b[0m \u001b[40m13\u001b[0m \u001b[40m18\u001b[0m \u001b[40m23\u001b[0m \u001b[40m21\u001b[0m \u001b[40m6 \u001b[0m \u001b[40m7 \u001b[0m \u001b[40m8 \u001b[0m \u001b[40m23\u001b[0m \u001b[40m19\u001b[0m \u001b[40m6 \u001b[0m \u001b[40m7 \u001b[0m \u001b[40m8 \u001b[0m \u001b[40m15\u001b[0m\n",
       "   \u001b[40m22\u001b[0m \u001b[40m7 \u001b[0m \u001b[40m12\u001b[0m \u001b[40m17\u001b[0m \u001b[40m14\u001b[0m \u001b[40m2 \u001b[0m \u001b[40m7 \u001b[0m \u001b[40m12\u001b[0m \u001b[40m17\u001b[0m \u001b[40m22\u001b[0m \u001b[40m22\u001b[0m \u001b[40m11\u001b[0m \u001b[40m12\u001b[0m \u001b[40m13\u001b[0m \u001b[40m22\u001b[0m \u001b[40m14\u001b[0m \u001b[40m11\u001b[0m \u001b[40m12\u001b[0m \u001b[40m13\u001b[0m \u001b[40m10\u001b[0m\n",
       "   \u001b[40m23\u001b[0m \u001b[40m6 \u001b[0m \u001b[40m11\u001b[0m \u001b[40m16\u001b[0m \u001b[40m19\u001b[0m \u001b[40m1 \u001b[0m \u001b[40m6 \u001b[0m \u001b[40m11\u001b[0m \u001b[40m16\u001b[0m \u001b[40m21\u001b[0m \u001b[40m23\u001b[0m \u001b[40m16\u001b[0m \u001b[40m17\u001b[0m \u001b[40m18\u001b[0m \u001b[40m21\u001b[0m \u001b[40m9 \u001b[0m \u001b[40m16\u001b[0m \u001b[40m17\u001b[0m \u001b[40m18\u001b[0m \u001b[40m5 \u001b[0m\n",
       "   \u001b[44m20\u001b[0m \u001b[40m19\u001b[0m \u001b[40m14\u001b[0m \u001b[40m9 \u001b[0m \u001b[48;5;15m24\u001b[0m \u001b[41m20\u001b[0m \u001b[40m5 \u001b[0m \u001b[40m10\u001b[0m \u001b[40m15\u001b[0m \u001b[41m24\u001b[0m \u001b[43m20\u001b[0m \u001b[40m3 \u001b[0m \u001b[40m2 \u001b[0m \u001b[40m1 \u001b[0m \u001b[48;5;208m24\u001b[0m \u001b[48;5;15m20\u001b[0m \u001b[40m3 \u001b[0m \u001b[40m2 \u001b[0m \u001b[40m1 \u001b[0m \u001b[48;5;15m4 \u001b[0m\n",
       "                  \u001b[42m0 \u001b[0m \u001b[40m9 \u001b[0m \u001b[40m14\u001b[0m \u001b[40m19\u001b[0m \u001b[42m4 \u001b[0m\n",
       "                  \u001b[40m5 \u001b[0m \u001b[40m6 \u001b[0m \u001b[40m7 \u001b[0m \u001b[40m8 \u001b[0m \u001b[40m23\u001b[0m\n",
       "                  \u001b[40m10\u001b[0m \u001b[40m11\u001b[0m \u001b[40m12\u001b[0m \u001b[40m13\u001b[0m \u001b[40m22\u001b[0m\n",
       "                  \u001b[40m15\u001b[0m \u001b[40m16\u001b[0m \u001b[40m17\u001b[0m \u001b[40m18\u001b[0m \u001b[40m21\u001b[0m\n",
       "                  \u001b[41m0 \u001b[0m \u001b[40m5 \u001b[0m \u001b[40m10\u001b[0m \u001b[40m15\u001b[0m \u001b[42m20\u001b[0m)),\n",
       " (0.5746270104166668,\n",
       "  ((\"y0'\", 'x0', 'z4', 'y0', 'z4'),\n",
       "                  \u001b[44m0 \u001b[0m \u001b[40m1 \u001b[0m \u001b[40m2 \u001b[0m \u001b[40m3 \u001b[0m \u001b[41m0 \u001b[0m\n",
       "                  \u001b[40m5 \u001b[0m \u001b[40m16\u001b[0m \u001b[40m11\u001b[0m \u001b[40m6 \u001b[0m \u001b[40m9 \u001b[0m\n",
       "                  \u001b[40m10\u001b[0m \u001b[40m17\u001b[0m \u001b[40m12\u001b[0m \u001b[40m7 \u001b[0m \u001b[40m14\u001b[0m\n",
       "                  \u001b[40m15\u001b[0m \u001b[40m18\u001b[0m \u001b[40m13\u001b[0m \u001b[40m8 \u001b[0m \u001b[40m19\u001b[0m\n",
       "                  \u001b[42m20\u001b[0m \u001b[40m19\u001b[0m \u001b[40m14\u001b[0m \u001b[40m9 \u001b[0m \u001b[44m24\u001b[0m\n",
       "   \u001b[48;5;15m0 \u001b[0m \u001b[40m9 \u001b[0m \u001b[40m14\u001b[0m \u001b[40m19\u001b[0m \u001b[48;5;15m20\u001b[0m \u001b[48;5;208m24\u001b[0m \u001b[40m15\u001b[0m \u001b[40m10\u001b[0m \u001b[40m5 \u001b[0m \u001b[41m4 \u001b[0m \u001b[43m0 \u001b[0m \u001b[40m15\u001b[0m \u001b[40m10\u001b[0m \u001b[40m5 \u001b[0m \u001b[44m20\u001b[0m \u001b[48;5;15m4 \u001b[0m \u001b[40m9 \u001b[0m \u001b[40m14\u001b[0m \u001b[40m19\u001b[0m \u001b[48;5;208m4 \u001b[0m\n",
       "   \u001b[40m21\u001b[0m \u001b[40m16\u001b[0m \u001b[40m11\u001b[0m \u001b[40m6 \u001b[0m \u001b[40m9 \u001b[0m \u001b[40m21\u001b[0m \u001b[40m8 \u001b[0m \u001b[40m13\u001b[0m \u001b[40m18\u001b[0m \u001b[40m23\u001b[0m \u001b[40m21\u001b[0m \u001b[40m6 \u001b[0m \u001b[40m7 \u001b[0m \u001b[40m8 \u001b[0m \u001b[40m23\u001b[0m \u001b[40m5 \u001b[0m \u001b[40m6 \u001b[0m \u001b[40m7 \u001b[0m \u001b[40m8 \u001b[0m \u001b[40m1 \u001b[0m\n",
       "   \u001b[40m22\u001b[0m \u001b[40m17\u001b[0m \u001b[40m12\u001b[0m \u001b[40m7 \u001b[0m \u001b[40m14\u001b[0m \u001b[40m22\u001b[0m \u001b[40m7 \u001b[0m \u001b[40m12\u001b[0m \u001b[40m17\u001b[0m \u001b[40m22\u001b[0m \u001b[40m22\u001b[0m \u001b[40m11\u001b[0m \u001b[40m12\u001b[0m \u001b[40m13\u001b[0m \u001b[40m22\u001b[0m \u001b[40m10\u001b[0m \u001b[40m11\u001b[0m \u001b[40m12\u001b[0m \u001b[40m13\u001b[0m \u001b[40m2 \u001b[0m\n",
       "   \u001b[40m23\u001b[0m \u001b[40m18\u001b[0m \u001b[40m13\u001b[0m \u001b[40m8 \u001b[0m \u001b[40m19\u001b[0m \u001b[40m23\u001b[0m \u001b[40m6 \u001b[0m \u001b[40m11\u001b[0m \u001b[40m16\u001b[0m \u001b[40m21\u001b[0m \u001b[40m23\u001b[0m \u001b[40m16\u001b[0m \u001b[40m17\u001b[0m \u001b[40m18\u001b[0m \u001b[40m21\u001b[0m \u001b[40m15\u001b[0m \u001b[40m16\u001b[0m \u001b[40m17\u001b[0m \u001b[40m18\u001b[0m \u001b[40m3 \u001b[0m\n",
       "   \u001b[43m4 \u001b[0m \u001b[40m3 \u001b[0m \u001b[40m2 \u001b[0m \u001b[40m1 \u001b[0m \u001b[48;5;15m24\u001b[0m \u001b[41m20\u001b[0m \u001b[40m21\u001b[0m \u001b[40m22\u001b[0m \u001b[40m23\u001b[0m \u001b[42m4 \u001b[0m \u001b[41m24\u001b[0m \u001b[40m5 \u001b[0m \u001b[40m10\u001b[0m \u001b[40m15\u001b[0m \u001b[43m24\u001b[0m \u001b[48;5;208m20\u001b[0m \u001b[40m3 \u001b[0m \u001b[40m2 \u001b[0m \u001b[40m1 \u001b[0m \u001b[48;5;208m0 \u001b[0m\n",
       "                  \u001b[42m0 \u001b[0m \u001b[40m1 \u001b[0m \u001b[40m2 \u001b[0m \u001b[40m3 \u001b[0m \u001b[43m20\u001b[0m\n",
       "                  \u001b[40m3 \u001b[0m \u001b[40m16\u001b[0m \u001b[40m11\u001b[0m \u001b[40m6 \u001b[0m \u001b[40m9 \u001b[0m\n",
       "                  \u001b[40m2 \u001b[0m \u001b[40m17\u001b[0m \u001b[40m12\u001b[0m \u001b[40m7 \u001b[0m \u001b[40m14\u001b[0m\n",
       "                  \u001b[40m1 \u001b[0m \u001b[40m18\u001b[0m \u001b[40m13\u001b[0m \u001b[40m8 \u001b[0m \u001b[40m19\u001b[0m\n",
       "                  \u001b[44m4 \u001b[0m \u001b[40m5 \u001b[0m \u001b[40m10\u001b[0m \u001b[40m15\u001b[0m \u001b[42m24\u001b[0m)),\n",
       " (0.5746270104166668,\n",
       "  ((\"x0'\", \"y4'\", 'z4', \"x4'\", 'y4'),\n",
       "                  \u001b[48;5;15m0 \u001b[0m \u001b[40m23\u001b[0m \u001b[40m22\u001b[0m \u001b[40m21\u001b[0m \u001b[44m20\u001b[0m\n",
       "                  \u001b[40m19\u001b[0m \u001b[40m16\u001b[0m \u001b[40m11\u001b[0m \u001b[40m6 \u001b[0m \u001b[40m9 \u001b[0m\n",
       "                  \u001b[40m14\u001b[0m \u001b[40m17\u001b[0m \u001b[40m12\u001b[0m \u001b[40m7 \u001b[0m \u001b[40m14\u001b[0m\n",
       "                  \u001b[40m9 \u001b[0m \u001b[40m18\u001b[0m \u001b[40m13\u001b[0m \u001b[40m8 \u001b[0m \u001b[40m19\u001b[0m\n",
       "                  \u001b[48;5;15m20\u001b[0m \u001b[40m19\u001b[0m \u001b[40m14\u001b[0m \u001b[40m9 \u001b[0m \u001b[44m24\u001b[0m\n",
       "   \u001b[48;5;208m4 \u001b[0m \u001b[40m23\u001b[0m \u001b[40m22\u001b[0m \u001b[40m21\u001b[0m \u001b[48;5;208m24\u001b[0m \u001b[42m20\u001b[0m \u001b[40m15\u001b[0m \u001b[40m10\u001b[0m \u001b[40m5 \u001b[0m \u001b[41m4 \u001b[0m \u001b[43m0 \u001b[0m \u001b[40m15\u001b[0m \u001b[40m10\u001b[0m \u001b[40m5 \u001b[0m \u001b[48;5;15m4 \u001b[0m \u001b[41m0 \u001b[0m \u001b[40m23\u001b[0m \u001b[40m22\u001b[0m \u001b[40m21\u001b[0m \u001b[44m0 \u001b[0m\n",
       "   \u001b[40m21\u001b[0m \u001b[40m8 \u001b[0m \u001b[40m13\u001b[0m \u001b[40m18\u001b[0m \u001b[40m9 \u001b[0m \u001b[40m3 \u001b[0m \u001b[40m8 \u001b[0m \u001b[40m13\u001b[0m \u001b[40m18\u001b[0m \u001b[40m9 \u001b[0m \u001b[40m5 \u001b[0m \u001b[40m16\u001b[0m \u001b[40m11\u001b[0m \u001b[40m6 \u001b[0m \u001b[40m1 \u001b[0m \u001b[40m5 \u001b[0m \u001b[40m16\u001b[0m \u001b[40m11\u001b[0m \u001b[40m6 \u001b[0m \u001b[40m1 \u001b[0m\n",
       "   \u001b[40m22\u001b[0m \u001b[40m7 \u001b[0m \u001b[40m12\u001b[0m \u001b[40m17\u001b[0m \u001b[40m14\u001b[0m \u001b[40m2 \u001b[0m \u001b[40m7 \u001b[0m \u001b[40m12\u001b[0m \u001b[40m17\u001b[0m \u001b[40m14\u001b[0m \u001b[40m10\u001b[0m \u001b[40m17\u001b[0m \u001b[40m12\u001b[0m \u001b[40m7 \u001b[0m \u001b[40m2 \u001b[0m \u001b[40m10\u001b[0m \u001b[40m17\u001b[0m \u001b[40m12\u001b[0m \u001b[40m7 \u001b[0m \u001b[40m2 \u001b[0m\n",
       "   \u001b[40m23\u001b[0m \u001b[40m6 \u001b[0m \u001b[40m11\u001b[0m \u001b[40m16\u001b[0m \u001b[40m19\u001b[0m \u001b[40m1 \u001b[0m \u001b[40m6 \u001b[0m \u001b[40m11\u001b[0m \u001b[40m16\u001b[0m \u001b[40m19\u001b[0m \u001b[40m15\u001b[0m \u001b[40m18\u001b[0m \u001b[40m13\u001b[0m \u001b[40m8 \u001b[0m \u001b[40m3 \u001b[0m \u001b[40m15\u001b[0m \u001b[40m18\u001b[0m \u001b[40m13\u001b[0m \u001b[40m8 \u001b[0m \u001b[40m3 \u001b[0m\n",
       "   \u001b[43m4 \u001b[0m \u001b[40m19\u001b[0m \u001b[40m14\u001b[0m \u001b[40m9 \u001b[0m \u001b[48;5;15m24\u001b[0m \u001b[41m20\u001b[0m \u001b[40m21\u001b[0m \u001b[40m22\u001b[0m \u001b[40m23\u001b[0m \u001b[41m24\u001b[0m \u001b[43m20\u001b[0m \u001b[40m3 \u001b[0m \u001b[40m2 \u001b[0m \u001b[40m1 \u001b[0m \u001b[43m24\u001b[0m \u001b[48;5;208m20\u001b[0m \u001b[40m3 \u001b[0m \u001b[40m2 \u001b[0m \u001b[40m1 \u001b[0m \u001b[48;5;208m0 \u001b[0m\n",
       "                  \u001b[42m0 \u001b[0m \u001b[40m15\u001b[0m \u001b[40m10\u001b[0m \u001b[40m5 \u001b[0m \u001b[42m4 \u001b[0m\n",
       "                  \u001b[40m5 \u001b[0m \u001b[40m16\u001b[0m \u001b[40m11\u001b[0m \u001b[40m6 \u001b[0m \u001b[40m23\u001b[0m\n",
       "                  \u001b[40m10\u001b[0m \u001b[40m17\u001b[0m \u001b[40m12\u001b[0m \u001b[40m7 \u001b[0m \u001b[40m22\u001b[0m\n",
       "                  \u001b[40m15\u001b[0m \u001b[40m18\u001b[0m \u001b[40m13\u001b[0m \u001b[40m8 \u001b[0m \u001b[40m21\u001b[0m\n",
       "                  \u001b[44m4 \u001b[0m \u001b[40m3 \u001b[0m \u001b[40m2 \u001b[0m \u001b[40m1 \u001b[0m \u001b[42m24\u001b[0m)),\n",
       " (0.5775145833333334,\n",
       "  (('x4', \"x0'\", \"y4'\", \"x4'\"),\n",
       "                  \u001b[43m24\u001b[0m \u001b[40m1 \u001b[0m \u001b[40m2 \u001b[0m \u001b[40m3 \u001b[0m \u001b[44m4 \u001b[0m\n",
       "                  \u001b[40m19\u001b[0m \u001b[40m18\u001b[0m \u001b[40m17\u001b[0m \u001b[40m16\u001b[0m \u001b[40m9 \u001b[0m\n",
       "                  \u001b[40m14\u001b[0m \u001b[40m13\u001b[0m \u001b[40m12\u001b[0m \u001b[40m11\u001b[0m \u001b[40m14\u001b[0m\n",
       "                  \u001b[40m9 \u001b[0m \u001b[40m8 \u001b[0m \u001b[40m7 \u001b[0m \u001b[40m6 \u001b[0m \u001b[40m19\u001b[0m\n",
       "                  \u001b[44m0 \u001b[0m \u001b[40m3 \u001b[0m \u001b[40m2 \u001b[0m \u001b[40m1 \u001b[0m \u001b[44m24\u001b[0m\n",
       "   \u001b[48;5;208m20\u001b[0m \u001b[40m15\u001b[0m \u001b[40m10\u001b[0m \u001b[40m5 \u001b[0m \u001b[48;5;208m4 \u001b[0m \u001b[48;5;15m0 \u001b[0m \u001b[40m1 \u001b[0m \u001b[40m2 \u001b[0m \u001b[40m3 \u001b[0m \u001b[41m4 \u001b[0m \u001b[43m0 \u001b[0m \u001b[40m15\u001b[0m \u001b[40m10\u001b[0m \u001b[40m5 \u001b[0m \u001b[43m4 \u001b[0m \u001b[48;5;208m0 \u001b[0m \u001b[40m23\u001b[0m \u001b[40m22\u001b[0m \u001b[40m21\u001b[0m \u001b[42m24\u001b[0m\n",
       "   \u001b[40m19\u001b[0m \u001b[40m8 \u001b[0m \u001b[40m13\u001b[0m \u001b[40m18\u001b[0m \u001b[40m9 \u001b[0m \u001b[40m3 \u001b[0m \u001b[40m8 \u001b[0m \u001b[40m13\u001b[0m \u001b[40m18\u001b[0m \u001b[40m23\u001b[0m \u001b[40m21\u001b[0m \u001b[40m6 \u001b[0m \u001b[40m7 \u001b[0m \u001b[40m8 \u001b[0m \u001b[40m1 \u001b[0m \u001b[40m5 \u001b[0m \u001b[40m18\u001b[0m \u001b[40m17\u001b[0m \u001b[40m16\u001b[0m \u001b[40m23\u001b[0m\n",
       "   \u001b[40m14\u001b[0m \u001b[40m7 \u001b[0m \u001b[40m12\u001b[0m \u001b[40m17\u001b[0m \u001b[40m14\u001b[0m \u001b[40m2 \u001b[0m \u001b[40m7 \u001b[0m \u001b[40m12\u001b[0m \u001b[40m17\u001b[0m \u001b[40m22\u001b[0m \u001b[40m22\u001b[0m \u001b[40m11\u001b[0m \u001b[40m12\u001b[0m \u001b[40m13\u001b[0m \u001b[40m2 \u001b[0m \u001b[40m10\u001b[0m \u001b[40m13\u001b[0m \u001b[40m12\u001b[0m \u001b[40m11\u001b[0m \u001b[40m22\u001b[0m\n",
       "   \u001b[40m9 \u001b[0m \u001b[40m6 \u001b[0m \u001b[40m11\u001b[0m \u001b[40m16\u001b[0m \u001b[40m19\u001b[0m \u001b[40m1 \u001b[0m \u001b[40m6 \u001b[0m \u001b[40m11\u001b[0m \u001b[40m16\u001b[0m \u001b[40m21\u001b[0m \u001b[40m23\u001b[0m \u001b[40m16\u001b[0m \u001b[40m17\u001b[0m \u001b[40m18\u001b[0m \u001b[40m3 \u001b[0m \u001b[40m15\u001b[0m \u001b[40m8 \u001b[0m \u001b[40m7 \u001b[0m \u001b[40m6 \u001b[0m \u001b[40m21\u001b[0m\n",
       "   \u001b[48;5;15m20\u001b[0m \u001b[40m19\u001b[0m \u001b[40m14\u001b[0m \u001b[40m9 \u001b[0m \u001b[48;5;15m24\u001b[0m \u001b[41m20\u001b[0m \u001b[40m21\u001b[0m \u001b[40m22\u001b[0m \u001b[40m23\u001b[0m \u001b[44m20\u001b[0m \u001b[41m0 \u001b[0m \u001b[40m5 \u001b[0m \u001b[40m10\u001b[0m \u001b[40m15\u001b[0m \u001b[41m24\u001b[0m \u001b[43m20\u001b[0m \u001b[40m3 \u001b[0m \u001b[40m2 \u001b[0m \u001b[40m1 \u001b[0m \u001b[48;5;208m24\u001b[0m\n",
       "                  \u001b[42m0 \u001b[0m \u001b[40m15\u001b[0m \u001b[40m10\u001b[0m \u001b[40m5 \u001b[0m \u001b[48;5;15m4 \u001b[0m\n",
       "                  \u001b[40m5 \u001b[0m \u001b[40m16\u001b[0m \u001b[40m11\u001b[0m \u001b[40m6 \u001b[0m \u001b[40m9 \u001b[0m\n",
       "                  \u001b[40m10\u001b[0m \u001b[40m17\u001b[0m \u001b[40m12\u001b[0m \u001b[40m7 \u001b[0m \u001b[40m14\u001b[0m\n",
       "                  \u001b[40m15\u001b[0m \u001b[40m18\u001b[0m \u001b[40m13\u001b[0m \u001b[40m8 \u001b[0m \u001b[40m19\u001b[0m\n",
       "                  \u001b[42m20\u001b[0m \u001b[40m21\u001b[0m \u001b[40m22\u001b[0m \u001b[40m23\u001b[0m \u001b[42m4 \u001b[0m)),\n",
       " (0.5974309864734748,\n",
       "  ((\"x0'\", \"x4'\", \"y4'\", 'z4', \"x4'\", 'z4', 'z4', 'z4'),\n",
       "                  \u001b[44m24\u001b[0m \u001b[40m1 \u001b[0m \u001b[40m2 \u001b[0m \u001b[40m3 \u001b[0m \u001b[43m24\u001b[0m\n",
       "                  \u001b[40m19\u001b[0m \u001b[40m18\u001b[0m \u001b[40m17\u001b[0m \u001b[40m16\u001b[0m \u001b[40m9 \u001b[0m\n",
       "                  \u001b[40m14\u001b[0m \u001b[40m13\u001b[0m \u001b[40m12\u001b[0m \u001b[40m11\u001b[0m \u001b[40m14\u001b[0m\n",
       "                  \u001b[40m9 \u001b[0m \u001b[40m8 \u001b[0m \u001b[40m7 \u001b[0m \u001b[40m6 \u001b[0m \u001b[40m19\u001b[0m\n",
       "                  \u001b[44m20\u001b[0m \u001b[40m21\u001b[0m \u001b[40m22\u001b[0m \u001b[40m23\u001b[0m \u001b[43m4 \u001b[0m\n",
       "   \u001b[43m0 \u001b[0m \u001b[40m15\u001b[0m \u001b[40m10\u001b[0m \u001b[40m5 \u001b[0m \u001b[48;5;15m4 \u001b[0m \u001b[41m0 \u001b[0m \u001b[40m23\u001b[0m \u001b[40m22\u001b[0m \u001b[40m21\u001b[0m \u001b[48;5;208m0 \u001b[0m \u001b[44m4 \u001b[0m \u001b[40m15\u001b[0m \u001b[40m10\u001b[0m \u001b[40m5 \u001b[0m \u001b[42m24\u001b[0m \u001b[48;5;208m20\u001b[0m \u001b[40m15\u001b[0m \u001b[40m10\u001b[0m \u001b[40m5 \u001b[0m \u001b[41m4 \u001b[0m\n",
       "   \u001b[40m19\u001b[0m \u001b[40m8 \u001b[0m \u001b[40m13\u001b[0m \u001b[40m18\u001b[0m \u001b[40m9 \u001b[0m \u001b[40m3 \u001b[0m \u001b[40m8 \u001b[0m \u001b[40m13\u001b[0m \u001b[40m18\u001b[0m \u001b[40m1 \u001b[0m \u001b[40m3 \u001b[0m \u001b[40m18\u001b[0m \u001b[40m17\u001b[0m \u001b[40m16\u001b[0m \u001b[40m15\u001b[0m \u001b[40m19\u001b[0m \u001b[40m18\u001b[0m \u001b[40m17\u001b[0m \u001b[40m16\u001b[0m \u001b[40m23\u001b[0m\n",
       "   \u001b[40m14\u001b[0m \u001b[40m7 \u001b[0m \u001b[40m12\u001b[0m \u001b[40m17\u001b[0m \u001b[40m14\u001b[0m \u001b[40m2 \u001b[0m \u001b[40m7 \u001b[0m \u001b[40m12\u001b[0m \u001b[40m17\u001b[0m \u001b[40m2 \u001b[0m \u001b[40m2 \u001b[0m \u001b[40m13\u001b[0m \u001b[40m12\u001b[0m \u001b[40m11\u001b[0m \u001b[40m10\u001b[0m \u001b[40m14\u001b[0m \u001b[40m13\u001b[0m \u001b[40m12\u001b[0m \u001b[40m11\u001b[0m \u001b[40m22\u001b[0m\n",
       "   \u001b[40m9 \u001b[0m \u001b[40m6 \u001b[0m \u001b[40m11\u001b[0m \u001b[40m16\u001b[0m \u001b[40m19\u001b[0m \u001b[40m1 \u001b[0m \u001b[40m6 \u001b[0m \u001b[40m11\u001b[0m \u001b[40m16\u001b[0m \u001b[40m3 \u001b[0m \u001b[40m1 \u001b[0m \u001b[40m8 \u001b[0m \u001b[40m7 \u001b[0m \u001b[40m6 \u001b[0m \u001b[40m5 \u001b[0m \u001b[40m9 \u001b[0m \u001b[40m8 \u001b[0m \u001b[40m7 \u001b[0m \u001b[40m6 \u001b[0m \u001b[40m21\u001b[0m\n",
       "   \u001b[48;5;15m20\u001b[0m \u001b[40m19\u001b[0m \u001b[40m14\u001b[0m \u001b[40m9 \u001b[0m \u001b[48;5;15m24\u001b[0m \u001b[41m20\u001b[0m \u001b[40m21\u001b[0m \u001b[40m22\u001b[0m \u001b[40m23\u001b[0m \u001b[41m24\u001b[0m \u001b[43m20\u001b[0m \u001b[40m3 \u001b[0m \u001b[40m2 \u001b[0m \u001b[40m1 \u001b[0m \u001b[48;5;15m0 \u001b[0m \u001b[48;5;208m4 \u001b[0m \u001b[40m3 \u001b[0m \u001b[40m2 \u001b[0m \u001b[40m1 \u001b[0m \u001b[48;5;208m24\u001b[0m\n",
       "                  \u001b[42m0 \u001b[0m \u001b[40m15\u001b[0m \u001b[40m10\u001b[0m \u001b[40m5 \u001b[0m \u001b[42m4 \u001b[0m\n",
       "                  \u001b[40m5 \u001b[0m \u001b[40m16\u001b[0m \u001b[40m11\u001b[0m \u001b[40m6 \u001b[0m \u001b[40m23\u001b[0m\n",
       "                  \u001b[40m10\u001b[0m \u001b[40m17\u001b[0m \u001b[40m12\u001b[0m \u001b[40m7 \u001b[0m \u001b[40m22\u001b[0m\n",
       "                  \u001b[40m15\u001b[0m \u001b[40m18\u001b[0m \u001b[40m13\u001b[0m \u001b[40m8 \u001b[0m \u001b[40m21\u001b[0m\n",
       "                  \u001b[42m20\u001b[0m \u001b[40m21\u001b[0m \u001b[40m22\u001b[0m \u001b[40m23\u001b[0m \u001b[44m0 \u001b[0m)),\n",
       " (0.606482818347666,\n",
       "  ((\"x0'\", \"y4'\", 'z4', \"x4'\", \"z4'\", \"z4'\", 'y4', 'z4'),\n",
       "                  \u001b[44m0 \u001b[0m \u001b[40m1 \u001b[0m \u001b[40m2 \u001b[0m \u001b[40m3 \u001b[0m \u001b[48;5;208m0 \u001b[0m\n",
       "                  \u001b[40m3 \u001b[0m \u001b[40m16\u001b[0m \u001b[40m11\u001b[0m \u001b[40m6 \u001b[0m \u001b[40m9 \u001b[0m\n",
       "                  \u001b[40m2 \u001b[0m \u001b[40m17\u001b[0m \u001b[40m12\u001b[0m \u001b[40m7 \u001b[0m \u001b[40m14\u001b[0m\n",
       "                  \u001b[40m1 \u001b[0m \u001b[40m18\u001b[0m \u001b[40m13\u001b[0m \u001b[40m8 \u001b[0m \u001b[40m19\u001b[0m\n",
       "                  \u001b[42m24\u001b[0m \u001b[40m19\u001b[0m \u001b[40m14\u001b[0m \u001b[40m9 \u001b[0m \u001b[44m24\u001b[0m\n",
       "   \u001b[48;5;15m0 \u001b[0m \u001b[40m1 \u001b[0m \u001b[40m2 \u001b[0m \u001b[40m3 \u001b[0m \u001b[48;5;208m20\u001b[0m \u001b[43m24\u001b[0m \u001b[40m15\u001b[0m \u001b[40m10\u001b[0m \u001b[40m5 \u001b[0m \u001b[41m4 \u001b[0m \u001b[43m0 \u001b[0m \u001b[40m15\u001b[0m \u001b[40m10\u001b[0m \u001b[40m5 \u001b[0m \u001b[44m4 \u001b[0m \u001b[43m4 \u001b[0m \u001b[40m15\u001b[0m \u001b[40m10\u001b[0m \u001b[40m5 \u001b[0m \u001b[48;5;208m4 \u001b[0m\n",
       "   \u001b[40m19\u001b[0m \u001b[40m8 \u001b[0m \u001b[40m13\u001b[0m \u001b[40m18\u001b[0m \u001b[40m9 \u001b[0m \u001b[40m3 \u001b[0m \u001b[40m8 \u001b[0m \u001b[40m13\u001b[0m \u001b[40m18\u001b[0m \u001b[40m9 \u001b[0m \u001b[40m5 \u001b[0m \u001b[40m16\u001b[0m \u001b[40m11\u001b[0m \u001b[40m6 \u001b[0m \u001b[40m23\u001b[0m \u001b[40m21\u001b[0m \u001b[40m18\u001b[0m \u001b[40m17\u001b[0m \u001b[40m16\u001b[0m \u001b[40m23\u001b[0m\n",
       "   \u001b[40m14\u001b[0m \u001b[40m7 \u001b[0m \u001b[40m12\u001b[0m \u001b[40m17\u001b[0m \u001b[40m14\u001b[0m \u001b[40m2 \u001b[0m \u001b[40m7 \u001b[0m \u001b[40m12\u001b[0m \u001b[40m17\u001b[0m \u001b[40m14\u001b[0m \u001b[40m10\u001b[0m \u001b[40m17\u001b[0m \u001b[40m12\u001b[0m \u001b[40m7 \u001b[0m \u001b[40m22\u001b[0m \u001b[40m22\u001b[0m \u001b[40m13\u001b[0m \u001b[40m12\u001b[0m \u001b[40m11\u001b[0m \u001b[40m22\u001b[0m\n",
       "   \u001b[40m9 \u001b[0m \u001b[40m6 \u001b[0m \u001b[40m11\u001b[0m \u001b[40m16\u001b[0m \u001b[40m19\u001b[0m \u001b[40m1 \u001b[0m \u001b[40m6 \u001b[0m \u001b[40m11\u001b[0m \u001b[40m16\u001b[0m \u001b[40m19\u001b[0m \u001b[40m15\u001b[0m \u001b[40m18\u001b[0m \u001b[40m13\u001b[0m \u001b[40m8 \u001b[0m \u001b[40m21\u001b[0m \u001b[40m23\u001b[0m \u001b[40m8 \u001b[0m \u001b[40m7 \u001b[0m \u001b[40m6 \u001b[0m \u001b[40m21\u001b[0m\n",
       "   \u001b[48;5;15m20\u001b[0m \u001b[40m19\u001b[0m \u001b[40m14\u001b[0m \u001b[40m9 \u001b[0m \u001b[48;5;15m24\u001b[0m \u001b[41m20\u001b[0m \u001b[40m21\u001b[0m \u001b[40m22\u001b[0m \u001b[40m23\u001b[0m \u001b[41m24\u001b[0m \u001b[43m20\u001b[0m \u001b[40m3 \u001b[0m \u001b[40m2 \u001b[0m \u001b[40m1 \u001b[0m \u001b[44m20\u001b[0m \u001b[41m0 \u001b[0m \u001b[40m3 \u001b[0m \u001b[40m2 \u001b[0m \u001b[40m1 \u001b[0m \u001b[48;5;208m24\u001b[0m\n",
       "                  \u001b[42m0 \u001b[0m \u001b[40m15\u001b[0m \u001b[40m10\u001b[0m \u001b[40m5 \u001b[0m \u001b[42m4 \u001b[0m\n",
       "                  \u001b[40m5 \u001b[0m \u001b[40m16\u001b[0m \u001b[40m11\u001b[0m \u001b[40m6 \u001b[0m \u001b[40m23\u001b[0m\n",
       "                  \u001b[40m10\u001b[0m \u001b[40m17\u001b[0m \u001b[40m12\u001b[0m \u001b[40m7 \u001b[0m \u001b[40m22\u001b[0m\n",
       "                  \u001b[40m15\u001b[0m \u001b[40m18\u001b[0m \u001b[40m13\u001b[0m \u001b[40m8 \u001b[0m \u001b[40m21\u001b[0m\n",
       "                  \u001b[42m20\u001b[0m \u001b[40m21\u001b[0m \u001b[40m22\u001b[0m \u001b[40m23\u001b[0m \u001b[48;5;15m4 \u001b[0m)),\n",
       " (0.606482818347666,\n",
       "  ((\"x0'\", \"y4'\", 'z4', \"x4'\", 'z4', 'z4', 'z4', 'y4'),\n",
       "                  \u001b[43m24\u001b[0m \u001b[40m23\u001b[0m \u001b[40m22\u001b[0m \u001b[40m21\u001b[0m \u001b[44m20\u001b[0m\n",
       "                  \u001b[40m3 \u001b[0m \u001b[40m16\u001b[0m \u001b[40m11\u001b[0m \u001b[40m6 \u001b[0m \u001b[40m9 \u001b[0m\n",
       "                  \u001b[40m2 \u001b[0m \u001b[40m17\u001b[0m \u001b[40m12\u001b[0m \u001b[40m7 \u001b[0m \u001b[40m14\u001b[0m\n",
       "                  \u001b[40m1 \u001b[0m \u001b[40m18\u001b[0m \u001b[40m13\u001b[0m \u001b[40m8 \u001b[0m \u001b[40m19\u001b[0m\n",
       "                  \u001b[44m0 \u001b[0m \u001b[40m19\u001b[0m \u001b[40m14\u001b[0m \u001b[40m9 \u001b[0m \u001b[44m24\u001b[0m\n",
       "   \u001b[48;5;208m20\u001b[0m \u001b[40m15\u001b[0m \u001b[40m10\u001b[0m \u001b[40m5 \u001b[0m \u001b[48;5;208m4 \u001b[0m \u001b[48;5;15m0 \u001b[0m \u001b[40m15\u001b[0m \u001b[40m10\u001b[0m \u001b[40m5 \u001b[0m \u001b[41m4 \u001b[0m \u001b[43m0 \u001b[0m \u001b[40m15\u001b[0m \u001b[40m10\u001b[0m \u001b[40m5 \u001b[0m \u001b[48;5;15m4 \u001b[0m \u001b[41m0 \u001b[0m \u001b[40m23\u001b[0m \u001b[40m22\u001b[0m \u001b[40m21\u001b[0m \u001b[42m24\u001b[0m\n",
       "   \u001b[40m19\u001b[0m \u001b[40m8 \u001b[0m \u001b[40m13\u001b[0m \u001b[40m18\u001b[0m \u001b[40m9 \u001b[0m \u001b[40m3 \u001b[0m \u001b[40m8 \u001b[0m \u001b[40m13\u001b[0m \u001b[40m18\u001b[0m \u001b[40m9 \u001b[0m \u001b[40m5 \u001b[0m \u001b[40m16\u001b[0m \u001b[40m11\u001b[0m \u001b[40m6 \u001b[0m \u001b[40m1 \u001b[0m \u001b[40m3 \u001b[0m \u001b[40m18\u001b[0m \u001b[40m17\u001b[0m \u001b[40m16\u001b[0m \u001b[40m23\u001b[0m\n",
       "   \u001b[40m14\u001b[0m \u001b[40m7 \u001b[0m \u001b[40m12\u001b[0m \u001b[40m17\u001b[0m \u001b[40m14\u001b[0m \u001b[40m2 \u001b[0m \u001b[40m7 \u001b[0m \u001b[40m12\u001b[0m \u001b[40m17\u001b[0m \u001b[40m14\u001b[0m \u001b[40m10\u001b[0m \u001b[40m17\u001b[0m \u001b[40m12\u001b[0m \u001b[40m7 \u001b[0m \u001b[40m2 \u001b[0m \u001b[40m2 \u001b[0m \u001b[40m13\u001b[0m \u001b[40m12\u001b[0m \u001b[40m11\u001b[0m \u001b[40m22\u001b[0m\n",
       "   \u001b[40m9 \u001b[0m \u001b[40m6 \u001b[0m \u001b[40m11\u001b[0m \u001b[40m16\u001b[0m \u001b[40m19\u001b[0m \u001b[40m1 \u001b[0m \u001b[40m6 \u001b[0m \u001b[40m11\u001b[0m \u001b[40m16\u001b[0m \u001b[40m19\u001b[0m \u001b[40m15\u001b[0m \u001b[40m18\u001b[0m \u001b[40m13\u001b[0m \u001b[40m8 \u001b[0m \u001b[40m3 \u001b[0m \u001b[40m1 \u001b[0m \u001b[40m8 \u001b[0m \u001b[40m7 \u001b[0m \u001b[40m6 \u001b[0m \u001b[40m21\u001b[0m\n",
       "   \u001b[48;5;15m20\u001b[0m \u001b[40m19\u001b[0m \u001b[40m14\u001b[0m \u001b[40m9 \u001b[0m \u001b[48;5;15m24\u001b[0m \u001b[41m20\u001b[0m \u001b[40m21\u001b[0m \u001b[40m22\u001b[0m \u001b[40m23\u001b[0m \u001b[41m24\u001b[0m \u001b[43m20\u001b[0m \u001b[40m3 \u001b[0m \u001b[40m2 \u001b[0m \u001b[40m1 \u001b[0m \u001b[44m4 \u001b[0m \u001b[48;5;208m0 \u001b[0m \u001b[40m3 \u001b[0m \u001b[40m2 \u001b[0m \u001b[40m1 \u001b[0m \u001b[48;5;208m24\u001b[0m\n",
       "                  \u001b[42m0 \u001b[0m \u001b[40m15\u001b[0m \u001b[40m10\u001b[0m \u001b[40m5 \u001b[0m \u001b[42m4 \u001b[0m\n",
       "                  \u001b[40m5 \u001b[0m \u001b[40m16\u001b[0m \u001b[40m11\u001b[0m \u001b[40m6 \u001b[0m \u001b[40m23\u001b[0m\n",
       "                  \u001b[40m10\u001b[0m \u001b[40m17\u001b[0m \u001b[40m12\u001b[0m \u001b[40m7 \u001b[0m \u001b[40m22\u001b[0m\n",
       "                  \u001b[40m15\u001b[0m \u001b[40m18\u001b[0m \u001b[40m13\u001b[0m \u001b[40m8 \u001b[0m \u001b[40m21\u001b[0m\n",
       "                  \u001b[42m20\u001b[0m \u001b[40m21\u001b[0m \u001b[40m22\u001b[0m \u001b[40m23\u001b[0m \u001b[43m4 \u001b[0m)),\n",
       " (0.6125934378906249,\n",
       "  (('z0', \"x0'\", \"x4'\", 'z4', 'x4', \"z4'\"),\n",
       "                  \u001b[43m20\u001b[0m \u001b[40m1 \u001b[0m \u001b[40m2 \u001b[0m \u001b[40m3 \u001b[0m \u001b[44m4 \u001b[0m\n",
       "                  \u001b[40m21\u001b[0m \u001b[40m16\u001b[0m \u001b[40m11\u001b[0m \u001b[40m6 \u001b[0m \u001b[40m1 \u001b[0m\n",
       "                  \u001b[40m22\u001b[0m \u001b[40m17\u001b[0m \u001b[40m12\u001b[0m \u001b[40m7 \u001b[0m \u001b[40m2 \u001b[0m\n",
       "                  \u001b[40m23\u001b[0m \u001b[40m18\u001b[0m \u001b[40m13\u001b[0m \u001b[40m8 \u001b[0m \u001b[40m3 \u001b[0m\n",
       "                  \u001b[44m20\u001b[0m \u001b[40m21\u001b[0m \u001b[40m22\u001b[0m \u001b[40m23\u001b[0m \u001b[42m24\u001b[0m\n",
       "   \u001b[42m4 \u001b[0m \u001b[40m15\u001b[0m \u001b[40m10\u001b[0m \u001b[40m5 \u001b[0m \u001b[48;5;15m4 \u001b[0m \u001b[41m0 \u001b[0m \u001b[40m1 \u001b[0m \u001b[40m2 \u001b[0m \u001b[40m3 \u001b[0m \u001b[48;5;208m20\u001b[0m \u001b[43m24\u001b[0m \u001b[40m15\u001b[0m \u001b[40m10\u001b[0m \u001b[40m5 \u001b[0m \u001b[43m4 \u001b[0m \u001b[48;5;208m0 \u001b[0m \u001b[40m1 \u001b[0m \u001b[40m2 \u001b[0m \u001b[40m3 \u001b[0m \u001b[41m24\u001b[0m\n",
       "   \u001b[40m19\u001b[0m \u001b[40m8 \u001b[0m \u001b[40m13\u001b[0m \u001b[40m18\u001b[0m \u001b[40m9 \u001b[0m \u001b[40m3 \u001b[0m \u001b[40m6 \u001b[0m \u001b[40m7 \u001b[0m \u001b[40m8 \u001b[0m \u001b[40m15\u001b[0m \u001b[40m19\u001b[0m \u001b[40m6 \u001b[0m \u001b[40m7 \u001b[0m \u001b[40m8 \u001b[0m \u001b[40m15\u001b[0m \u001b[40m19\u001b[0m \u001b[40m18\u001b[0m \u001b[40m17\u001b[0m \u001b[40m16\u001b[0m \u001b[40m23\u001b[0m\n",
       "   \u001b[40m14\u001b[0m \u001b[40m7 \u001b[0m \u001b[40m12\u001b[0m \u001b[40m17\u001b[0m \u001b[40m14\u001b[0m \u001b[40m2 \u001b[0m \u001b[40m11\u001b[0m \u001b[40m12\u001b[0m \u001b[40m13\u001b[0m \u001b[40m10\u001b[0m \u001b[40m14\u001b[0m \u001b[40m11\u001b[0m \u001b[40m12\u001b[0m \u001b[40m13\u001b[0m \u001b[40m10\u001b[0m \u001b[40m14\u001b[0m \u001b[40m13\u001b[0m \u001b[40m12\u001b[0m \u001b[40m11\u001b[0m \u001b[40m22\u001b[0m\n",
       "   \u001b[40m9 \u001b[0m \u001b[40m6 \u001b[0m \u001b[40m11\u001b[0m \u001b[40m16\u001b[0m \u001b[40m19\u001b[0m \u001b[40m1 \u001b[0m \u001b[40m16\u001b[0m \u001b[40m17\u001b[0m \u001b[40m18\u001b[0m \u001b[40m5 \u001b[0m \u001b[40m9 \u001b[0m \u001b[40m16\u001b[0m \u001b[40m17\u001b[0m \u001b[40m18\u001b[0m \u001b[40m5 \u001b[0m \u001b[40m9 \u001b[0m \u001b[40m8 \u001b[0m \u001b[40m7 \u001b[0m \u001b[40m6 \u001b[0m \u001b[40m21\u001b[0m\n",
       "   \u001b[48;5;15m20\u001b[0m \u001b[40m19\u001b[0m \u001b[40m14\u001b[0m \u001b[40m9 \u001b[0m \u001b[48;5;15m24\u001b[0m \u001b[41m20\u001b[0m \u001b[40m21\u001b[0m \u001b[40m22\u001b[0m \u001b[40m23\u001b[0m \u001b[41m4 \u001b[0m \u001b[44m24\u001b[0m \u001b[40m5 \u001b[0m \u001b[40m10\u001b[0m \u001b[40m15\u001b[0m \u001b[48;5;15m0 \u001b[0m \u001b[48;5;208m4 \u001b[0m \u001b[40m3 \u001b[0m \u001b[40m2 \u001b[0m \u001b[40m1 \u001b[0m \u001b[48;5;208m24\u001b[0m\n",
       "                  \u001b[42m0 \u001b[0m \u001b[40m23\u001b[0m \u001b[40m22\u001b[0m \u001b[40m21\u001b[0m \u001b[43m0 \u001b[0m\n",
       "                  \u001b[40m5 \u001b[0m \u001b[40m16\u001b[0m \u001b[40m11\u001b[0m \u001b[40m6 \u001b[0m \u001b[40m9 \u001b[0m\n",
       "                  \u001b[40m10\u001b[0m \u001b[40m17\u001b[0m \u001b[40m12\u001b[0m \u001b[40m7 \u001b[0m \u001b[40m14\u001b[0m\n",
       "                  \u001b[40m15\u001b[0m \u001b[40m18\u001b[0m \u001b[40m13\u001b[0m \u001b[40m8 \u001b[0m \u001b[40m19\u001b[0m\n",
       "                  \u001b[42m20\u001b[0m \u001b[40m21\u001b[0m \u001b[40m22\u001b[0m \u001b[40m23\u001b[0m \u001b[44m0 \u001b[0m)),\n",
       " (0.6125934378906249,\n",
       "  ((\"x4'\", \"x0'\", \"y4'\", 'z4', \"x4'\", \"z4'\"),\n",
       "                  \u001b[44m24\u001b[0m \u001b[40m1 \u001b[0m \u001b[40m2 \u001b[0m \u001b[40m3 \u001b[0m \u001b[43m24\u001b[0m\n",
       "                  \u001b[40m19\u001b[0m \u001b[40m18\u001b[0m \u001b[40m17\u001b[0m \u001b[40m16\u001b[0m \u001b[40m9 \u001b[0m\n",
       "                  \u001b[40m14\u001b[0m \u001b[40m13\u001b[0m \u001b[40m12\u001b[0m \u001b[40m11\u001b[0m \u001b[40m14\u001b[0m\n",
       "                  \u001b[40m9 \u001b[0m \u001b[40m8 \u001b[0m \u001b[40m7 \u001b[0m \u001b[40m6 \u001b[0m \u001b[40m19\u001b[0m\n",
       "                  \u001b[44m20\u001b[0m \u001b[40m21\u001b[0m \u001b[40m22\u001b[0m \u001b[40m23\u001b[0m \u001b[43m4 \u001b[0m\n",
       "   \u001b[43m0 \u001b[0m \u001b[40m15\u001b[0m \u001b[40m10\u001b[0m \u001b[40m5 \u001b[0m \u001b[48;5;15m4 \u001b[0m \u001b[41m0 \u001b[0m \u001b[40m23\u001b[0m \u001b[40m22\u001b[0m \u001b[40m21\u001b[0m \u001b[48;5;208m0 \u001b[0m \u001b[44m4 \u001b[0m \u001b[40m15\u001b[0m \u001b[40m10\u001b[0m \u001b[40m5 \u001b[0m \u001b[42m24\u001b[0m \u001b[48;5;208m20\u001b[0m \u001b[40m15\u001b[0m \u001b[40m10\u001b[0m \u001b[40m5 \u001b[0m \u001b[41m4 \u001b[0m\n",
       "   \u001b[40m19\u001b[0m \u001b[40m8 \u001b[0m \u001b[40m13\u001b[0m \u001b[40m18\u001b[0m \u001b[40m9 \u001b[0m \u001b[40m3 \u001b[0m \u001b[40m8 \u001b[0m \u001b[40m13\u001b[0m \u001b[40m18\u001b[0m \u001b[40m1 \u001b[0m \u001b[40m3 \u001b[0m \u001b[40m18\u001b[0m \u001b[40m17\u001b[0m \u001b[40m16\u001b[0m \u001b[40m15\u001b[0m \u001b[40m19\u001b[0m \u001b[40m18\u001b[0m \u001b[40m17\u001b[0m \u001b[40m16\u001b[0m \u001b[40m23\u001b[0m\n",
       "   \u001b[40m14\u001b[0m \u001b[40m7 \u001b[0m \u001b[40m12\u001b[0m \u001b[40m17\u001b[0m \u001b[40m14\u001b[0m \u001b[40m2 \u001b[0m \u001b[40m7 \u001b[0m \u001b[40m12\u001b[0m \u001b[40m17\u001b[0m \u001b[40m2 \u001b[0m \u001b[40m2 \u001b[0m \u001b[40m13\u001b[0m \u001b[40m12\u001b[0m \u001b[40m11\u001b[0m \u001b[40m10\u001b[0m \u001b[40m14\u001b[0m \u001b[40m13\u001b[0m \u001b[40m12\u001b[0m \u001b[40m11\u001b[0m \u001b[40m22\u001b[0m\n",
       "   \u001b[40m9 \u001b[0m \u001b[40m6 \u001b[0m \u001b[40m11\u001b[0m \u001b[40m16\u001b[0m \u001b[40m19\u001b[0m \u001b[40m1 \u001b[0m \u001b[40m6 \u001b[0m \u001b[40m11\u001b[0m \u001b[40m16\u001b[0m \u001b[40m3 \u001b[0m \u001b[40m1 \u001b[0m \u001b[40m8 \u001b[0m \u001b[40m7 \u001b[0m \u001b[40m6 \u001b[0m \u001b[40m5 \u001b[0m \u001b[40m9 \u001b[0m \u001b[40m8 \u001b[0m \u001b[40m7 \u001b[0m \u001b[40m6 \u001b[0m \u001b[40m21\u001b[0m\n",
       "   \u001b[48;5;15m20\u001b[0m \u001b[40m19\u001b[0m \u001b[40m14\u001b[0m \u001b[40m9 \u001b[0m \u001b[48;5;15m24\u001b[0m \u001b[41m20\u001b[0m \u001b[40m21\u001b[0m \u001b[40m22\u001b[0m \u001b[40m23\u001b[0m \u001b[41m24\u001b[0m \u001b[43m20\u001b[0m \u001b[40m3 \u001b[0m \u001b[40m2 \u001b[0m \u001b[40m1 \u001b[0m \u001b[48;5;15m0 \u001b[0m \u001b[48;5;208m4 \u001b[0m \u001b[40m3 \u001b[0m \u001b[40m2 \u001b[0m \u001b[40m1 \u001b[0m \u001b[48;5;208m24\u001b[0m\n",
       "                  \u001b[42m0 \u001b[0m \u001b[40m15\u001b[0m \u001b[40m10\u001b[0m \u001b[40m5 \u001b[0m \u001b[42m4 \u001b[0m\n",
       "                  \u001b[40m5 \u001b[0m \u001b[40m16\u001b[0m \u001b[40m11\u001b[0m \u001b[40m6 \u001b[0m \u001b[40m23\u001b[0m\n",
       "                  \u001b[40m10\u001b[0m \u001b[40m17\u001b[0m \u001b[40m12\u001b[0m \u001b[40m7 \u001b[0m \u001b[40m22\u001b[0m\n",
       "                  \u001b[40m15\u001b[0m \u001b[40m18\u001b[0m \u001b[40m13\u001b[0m \u001b[40m8 \u001b[0m \u001b[40m21\u001b[0m\n",
       "                  \u001b[42m20\u001b[0m \u001b[40m21\u001b[0m \u001b[40m22\u001b[0m \u001b[40m23\u001b[0m \u001b[44m0 \u001b[0m)),\n",
       " (0.6125934378906249,\n",
       "  (('z0', 'y4', \"x0'\", \"x4'\", \"x4'\", 'z4'),\n",
       "                  \u001b[44m0 \u001b[0m \u001b[40m1 \u001b[0m \u001b[40m2 \u001b[0m \u001b[40m3 \u001b[0m \u001b[42m20\u001b[0m\n",
       "                  \u001b[40m21\u001b[0m \u001b[40m6 \u001b[0m \u001b[40m7 \u001b[0m \u001b[40m8 \u001b[0m \u001b[40m9 \u001b[0m\n",
       "                  \u001b[40m22\u001b[0m \u001b[40m11\u001b[0m \u001b[40m12\u001b[0m \u001b[40m13\u001b[0m \u001b[40m14\u001b[0m\n",
       "                  \u001b[40m23\u001b[0m \u001b[40m16\u001b[0m \u001b[40m17\u001b[0m \u001b[40m18\u001b[0m \u001b[40m19\u001b[0m\n",
       "                  \u001b[44m20\u001b[0m \u001b[40m21\u001b[0m \u001b[40m22\u001b[0m \u001b[40m23\u001b[0m \u001b[43m4 \u001b[0m\n",
       "   \u001b[48;5;15m0 \u001b[0m \u001b[40m15\u001b[0m \u001b[40m10\u001b[0m \u001b[40m5 \u001b[0m \u001b[48;5;15m4 \u001b[0m \u001b[41m0 \u001b[0m \u001b[40m9 \u001b[0m \u001b[40m14\u001b[0m \u001b[40m19\u001b[0m \u001b[48;5;208m0 \u001b[0m \u001b[44m4 \u001b[0m \u001b[40m15\u001b[0m \u001b[40m10\u001b[0m \u001b[40m5 \u001b[0m \u001b[48;5;15m20\u001b[0m \u001b[48;5;208m24\u001b[0m \u001b[40m15\u001b[0m \u001b[40m10\u001b[0m \u001b[40m5 \u001b[0m \u001b[48;5;208m4 \u001b[0m\n",
       "   \u001b[40m21\u001b[0m \u001b[40m8 \u001b[0m \u001b[40m13\u001b[0m \u001b[40m18\u001b[0m \u001b[40m9 \u001b[0m \u001b[40m3 \u001b[0m \u001b[40m6 \u001b[0m \u001b[40m7 \u001b[0m \u001b[40m8 \u001b[0m \u001b[40m1 \u001b[0m \u001b[40m3 \u001b[0m \u001b[40m18\u001b[0m \u001b[40m17\u001b[0m \u001b[40m16\u001b[0m \u001b[40m9 \u001b[0m \u001b[40m5 \u001b[0m \u001b[40m16\u001b[0m \u001b[40m11\u001b[0m \u001b[40m6 \u001b[0m \u001b[40m1 \u001b[0m\n",
       "   \u001b[40m22\u001b[0m \u001b[40m7 \u001b[0m \u001b[40m12\u001b[0m \u001b[40m17\u001b[0m \u001b[40m14\u001b[0m \u001b[40m2 \u001b[0m \u001b[40m11\u001b[0m \u001b[40m12\u001b[0m \u001b[40m13\u001b[0m \u001b[40m2 \u001b[0m \u001b[40m2 \u001b[0m \u001b[40m13\u001b[0m \u001b[40m12\u001b[0m \u001b[40m11\u001b[0m \u001b[40m14\u001b[0m \u001b[40m10\u001b[0m \u001b[40m17\u001b[0m \u001b[40m12\u001b[0m \u001b[40m7 \u001b[0m \u001b[40m2 \u001b[0m\n",
       "   \u001b[40m23\u001b[0m \u001b[40m6 \u001b[0m \u001b[40m11\u001b[0m \u001b[40m16\u001b[0m \u001b[40m19\u001b[0m \u001b[40m1 \u001b[0m \u001b[40m16\u001b[0m \u001b[40m17\u001b[0m \u001b[40m18\u001b[0m \u001b[40m3 \u001b[0m \u001b[40m1 \u001b[0m \u001b[40m8 \u001b[0m \u001b[40m7 \u001b[0m \u001b[40m6 \u001b[0m \u001b[40m19\u001b[0m \u001b[40m15\u001b[0m \u001b[40m18\u001b[0m \u001b[40m13\u001b[0m \u001b[40m8 \u001b[0m \u001b[40m3 \u001b[0m\n",
       "   \u001b[42m24\u001b[0m \u001b[40m19\u001b[0m \u001b[40m14\u001b[0m \u001b[40m9 \u001b[0m \u001b[48;5;15m24\u001b[0m \u001b[41m20\u001b[0m \u001b[40m21\u001b[0m \u001b[40m22\u001b[0m \u001b[40m23\u001b[0m \u001b[41m24\u001b[0m \u001b[43m20\u001b[0m \u001b[40m3 \u001b[0m \u001b[40m2 \u001b[0m \u001b[40m1 \u001b[0m \u001b[43m0 \u001b[0m \u001b[41m4 \u001b[0m \u001b[40m5 \u001b[0m \u001b[40m10\u001b[0m \u001b[40m15\u001b[0m \u001b[48;5;208m20\u001b[0m\n",
       "                  \u001b[42m0 \u001b[0m \u001b[40m23\u001b[0m \u001b[40m22\u001b[0m \u001b[40m21\u001b[0m \u001b[42m4 \u001b[0m\n",
       "                  \u001b[40m5 \u001b[0m \u001b[40m16\u001b[0m \u001b[40m11\u001b[0m \u001b[40m6 \u001b[0m \u001b[40m23\u001b[0m\n",
       "                  \u001b[40m10\u001b[0m \u001b[40m17\u001b[0m \u001b[40m12\u001b[0m \u001b[40m7 \u001b[0m \u001b[40m22\u001b[0m\n",
       "                  \u001b[40m15\u001b[0m \u001b[40m18\u001b[0m \u001b[40m13\u001b[0m \u001b[40m8 \u001b[0m \u001b[40m21\u001b[0m\n",
       "                  \u001b[43m24\u001b[0m \u001b[40m19\u001b[0m \u001b[40m14\u001b[0m \u001b[40m9 \u001b[0m \u001b[44m24\u001b[0m)),\n",
       " (0.6125934378906249,\n",
       "  (('x0', 'x0', \"z4'\", \"y0'\", 'x0', \"z4'\"),\n",
       "                  \u001b[43m4 \u001b[0m \u001b[40m23\u001b[0m \u001b[40m22\u001b[0m \u001b[40m21\u001b[0m \u001b[43m24\u001b[0m\n",
       "                  \u001b[40m3 \u001b[0m \u001b[40m16\u001b[0m \u001b[40m11\u001b[0m \u001b[40m6 \u001b[0m \u001b[40m9 \u001b[0m\n",
       "                  \u001b[40m2 \u001b[0m \u001b[40m17\u001b[0m \u001b[40m12\u001b[0m \u001b[40m7 \u001b[0m \u001b[40m14\u001b[0m\n",
       "                  \u001b[40m1 \u001b[0m \u001b[40m18\u001b[0m \u001b[40m13\u001b[0m \u001b[40m8 \u001b[0m \u001b[40m19\u001b[0m\n",
       "                  \u001b[44m0 \u001b[0m \u001b[40m19\u001b[0m \u001b[40m14\u001b[0m \u001b[40m9 \u001b[0m \u001b[44m24\u001b[0m\n",
       "   \u001b[44m4 \u001b[0m \u001b[40m15\u001b[0m \u001b[40m10\u001b[0m \u001b[40m5 \u001b[0m \u001b[48;5;208m4 \u001b[0m \u001b[48;5;15m0 \u001b[0m \u001b[40m15\u001b[0m \u001b[40m10\u001b[0m \u001b[40m5 \u001b[0m \u001b[41m4 \u001b[0m \u001b[43m0 \u001b[0m \u001b[40m15\u001b[0m \u001b[40m10\u001b[0m \u001b[40m5 \u001b[0m \u001b[42m24\u001b[0m \u001b[48;5;208m20\u001b[0m \u001b[40m1 \u001b[0m \u001b[40m2 \u001b[0m \u001b[40m3 \u001b[0m \u001b[48;5;208m0 \u001b[0m\n",
       "   \u001b[40m3 \u001b[0m \u001b[40m8 \u001b[0m \u001b[40m13\u001b[0m \u001b[40m18\u001b[0m \u001b[40m9 \u001b[0m \u001b[40m3 \u001b[0m \u001b[40m8 \u001b[0m \u001b[40m13\u001b[0m \u001b[40m18\u001b[0m \u001b[40m23\u001b[0m \u001b[40m21\u001b[0m \u001b[40m6 \u001b[0m \u001b[40m7 \u001b[0m \u001b[40m8 \u001b[0m \u001b[40m23\u001b[0m \u001b[40m19\u001b[0m \u001b[40m6 \u001b[0m \u001b[40m7 \u001b[0m \u001b[40m8 \u001b[0m \u001b[40m1 \u001b[0m\n",
       "   \u001b[40m2 \u001b[0m \u001b[40m7 \u001b[0m \u001b[40m12\u001b[0m \u001b[40m17\u001b[0m \u001b[40m14\u001b[0m \u001b[40m2 \u001b[0m \u001b[40m7 \u001b[0m \u001b[40m12\u001b[0m \u001b[40m17\u001b[0m \u001b[40m22\u001b[0m \u001b[40m22\u001b[0m \u001b[40m11\u001b[0m \u001b[40m12\u001b[0m \u001b[40m13\u001b[0m \u001b[40m22\u001b[0m \u001b[40m14\u001b[0m \u001b[40m11\u001b[0m \u001b[40m12\u001b[0m \u001b[40m13\u001b[0m \u001b[40m2 \u001b[0m\n",
       "   \u001b[40m1 \u001b[0m \u001b[40m6 \u001b[0m \u001b[40m11\u001b[0m \u001b[40m16\u001b[0m \u001b[40m19\u001b[0m \u001b[40m1 \u001b[0m \u001b[40m6 \u001b[0m \u001b[40m11\u001b[0m \u001b[40m16\u001b[0m \u001b[40m21\u001b[0m \u001b[40m23\u001b[0m \u001b[40m16\u001b[0m \u001b[40m17\u001b[0m \u001b[40m18\u001b[0m \u001b[40m21\u001b[0m \u001b[40m9 \u001b[0m \u001b[40m16\u001b[0m \u001b[40m17\u001b[0m \u001b[40m18\u001b[0m \u001b[40m3 \u001b[0m\n",
       "   \u001b[48;5;15m20\u001b[0m \u001b[40m19\u001b[0m \u001b[40m14\u001b[0m \u001b[40m9 \u001b[0m \u001b[48;5;15m24\u001b[0m \u001b[41m20\u001b[0m \u001b[40m5 \u001b[0m \u001b[40m10\u001b[0m \u001b[40m15\u001b[0m \u001b[41m24\u001b[0m \u001b[43m20\u001b[0m \u001b[40m3 \u001b[0m \u001b[40m2 \u001b[0m \u001b[40m1 \u001b[0m \u001b[41m0 \u001b[0m \u001b[48;5;15m4 \u001b[0m \u001b[40m5 \u001b[0m \u001b[40m10\u001b[0m \u001b[40m15\u001b[0m \u001b[48;5;208m24\u001b[0m\n",
       "                  \u001b[42m0 \u001b[0m \u001b[40m9 \u001b[0m \u001b[40m14\u001b[0m \u001b[40m19\u001b[0m \u001b[42m4 \u001b[0m\n",
       "                  \u001b[40m5 \u001b[0m \u001b[40m6 \u001b[0m \u001b[40m7 \u001b[0m \u001b[40m8 \u001b[0m \u001b[40m23\u001b[0m\n",
       "                  \u001b[40m10\u001b[0m \u001b[40m11\u001b[0m \u001b[40m12\u001b[0m \u001b[40m13\u001b[0m \u001b[40m22\u001b[0m\n",
       "                  \u001b[40m15\u001b[0m \u001b[40m16\u001b[0m \u001b[40m17\u001b[0m \u001b[40m18\u001b[0m \u001b[40m21\u001b[0m\n",
       "                  \u001b[42m20\u001b[0m \u001b[40m21\u001b[0m \u001b[40m22\u001b[0m \u001b[40m23\u001b[0m \u001b[44m20\u001b[0m)),\n",
       " (0.6469150062375104,\n",
       "  (('x0', 'x0', \"z4'\", \"y0'\", 'x0', 'z4', 'y4', \"z4'\"),\n",
       "                  \u001b[41m4 \u001b[0m \u001b[40m1 \u001b[0m \u001b[40m2 \u001b[0m \u001b[40m3 \u001b[0m \u001b[44m4 \u001b[0m\n",
       "                  \u001b[40m21\u001b[0m \u001b[40m6 \u001b[0m \u001b[40m7 \u001b[0m \u001b[40m8 \u001b[0m \u001b[40m9 \u001b[0m\n",
       "                  \u001b[40m22\u001b[0m \u001b[40m11\u001b[0m \u001b[40m12\u001b[0m \u001b[40m13\u001b[0m \u001b[40m14\u001b[0m\n",
       "                  \u001b[40m23\u001b[0m \u001b[40m16\u001b[0m \u001b[40m17\u001b[0m \u001b[40m18\u001b[0m \u001b[40m19\u001b[0m\n",
       "                  \u001b[44m20\u001b[0m \u001b[40m3 \u001b[0m \u001b[40m2 \u001b[0m \u001b[40m1 \u001b[0m \u001b[44m0 \u001b[0m\n",
       "   \u001b[44m24\u001b[0m \u001b[40m15\u001b[0m \u001b[40m10\u001b[0m \u001b[40m5 \u001b[0m \u001b[48;5;15m4 \u001b[0m \u001b[41m0 \u001b[0m \u001b[40m15\u001b[0m \u001b[40m10\u001b[0m \u001b[40m5 \u001b[0m \u001b[48;5;208m4 \u001b[0m \u001b[48;5;15m0 \u001b[0m \u001b[40m15\u001b[0m \u001b[40m10\u001b[0m \u001b[40m5 \u001b[0m \u001b[43m4 \u001b[0m \u001b[48;5;208m0 \u001b[0m \u001b[40m1 \u001b[0m \u001b[40m2 \u001b[0m \u001b[40m3 \u001b[0m \u001b[43m0 \u001b[0m\n",
       "   \u001b[40m19\u001b[0m \u001b[40m8 \u001b[0m \u001b[40m13\u001b[0m \u001b[40m18\u001b[0m \u001b[40m9 \u001b[0m \u001b[40m3 \u001b[0m \u001b[40m8 \u001b[0m \u001b[40m13\u001b[0m \u001b[40m18\u001b[0m \u001b[40m23\u001b[0m \u001b[40m21\u001b[0m \u001b[40m6 \u001b[0m \u001b[40m7 \u001b[0m \u001b[40m8 \u001b[0m \u001b[40m23\u001b[0m \u001b[40m3 \u001b[0m \u001b[40m8 \u001b[0m \u001b[40m13\u001b[0m \u001b[40m18\u001b[0m \u001b[40m15\u001b[0m\n",
       "   \u001b[40m14\u001b[0m \u001b[40m7 \u001b[0m \u001b[40m12\u001b[0m \u001b[40m17\u001b[0m \u001b[40m14\u001b[0m \u001b[40m2 \u001b[0m \u001b[40m7 \u001b[0m \u001b[40m12\u001b[0m \u001b[40m17\u001b[0m \u001b[40m22\u001b[0m \u001b[40m22\u001b[0m \u001b[40m11\u001b[0m \u001b[40m12\u001b[0m \u001b[40m13\u001b[0m \u001b[40m22\u001b[0m \u001b[40m2 \u001b[0m \u001b[40m7 \u001b[0m \u001b[40m12\u001b[0m \u001b[40m17\u001b[0m \u001b[40m10\u001b[0m\n",
       "   \u001b[40m9 \u001b[0m \u001b[40m6 \u001b[0m \u001b[40m11\u001b[0m \u001b[40m16\u001b[0m \u001b[40m19\u001b[0m \u001b[40m1 \u001b[0m \u001b[40m6 \u001b[0m \u001b[40m11\u001b[0m \u001b[40m16\u001b[0m \u001b[40m21\u001b[0m \u001b[40m23\u001b[0m \u001b[40m16\u001b[0m \u001b[40m17\u001b[0m \u001b[40m18\u001b[0m \u001b[40m21\u001b[0m \u001b[40m1 \u001b[0m \u001b[40m6 \u001b[0m \u001b[40m11\u001b[0m \u001b[40m16\u001b[0m \u001b[40m5 \u001b[0m\n",
       "   \u001b[42m20\u001b[0m \u001b[40m19\u001b[0m \u001b[40m14\u001b[0m \u001b[40m9 \u001b[0m \u001b[48;5;15m24\u001b[0m \u001b[41m20\u001b[0m \u001b[40m5 \u001b[0m \u001b[40m10\u001b[0m \u001b[40m15\u001b[0m \u001b[41m24\u001b[0m \u001b[43m20\u001b[0m \u001b[40m3 \u001b[0m \u001b[40m2 \u001b[0m \u001b[40m1 \u001b[0m \u001b[43m24\u001b[0m \u001b[48;5;208m20\u001b[0m \u001b[40m19\u001b[0m \u001b[40m14\u001b[0m \u001b[40m9 \u001b[0m \u001b[48;5;15m20\u001b[0m\n",
       "                  \u001b[42m0 \u001b[0m \u001b[40m9 \u001b[0m \u001b[40m14\u001b[0m \u001b[40m19\u001b[0m \u001b[42m4 \u001b[0m\n",
       "                  \u001b[40m5 \u001b[0m \u001b[40m6 \u001b[0m \u001b[40m7 \u001b[0m \u001b[40m8 \u001b[0m \u001b[40m23\u001b[0m\n",
       "                  \u001b[40m10\u001b[0m \u001b[40m11\u001b[0m \u001b[40m12\u001b[0m \u001b[40m13\u001b[0m \u001b[40m22\u001b[0m\n",
       "                  \u001b[40m15\u001b[0m \u001b[40m16\u001b[0m \u001b[40m17\u001b[0m \u001b[40m18\u001b[0m \u001b[40m21\u001b[0m\n",
       "                  \u001b[48;5;208m24\u001b[0m \u001b[40m21\u001b[0m \u001b[40m22\u001b[0m \u001b[40m23\u001b[0m \u001b[42m24\u001b[0m)),\n",
       " (0.6908012001279948,\n",
       "  (('x0', 'x0', \"z4'\", \"y0'\", \"x0'\", \"x0'\", \"x0'\"),\n",
       "                  \u001b[48;5;15m20\u001b[0m \u001b[40m1 \u001b[0m \u001b[40m2 \u001b[0m \u001b[40m3 \u001b[0m \u001b[44m4 \u001b[0m\n",
       "                  \u001b[40m3 \u001b[0m \u001b[40m16\u001b[0m \u001b[40m11\u001b[0m \u001b[40m6 \u001b[0m \u001b[40m9 \u001b[0m\n",
       "                  \u001b[40m2 \u001b[0m \u001b[40m17\u001b[0m \u001b[40m12\u001b[0m \u001b[40m7 \u001b[0m \u001b[40m14\u001b[0m\n",
       "                  \u001b[40m1 \u001b[0m \u001b[40m18\u001b[0m \u001b[40m13\u001b[0m \u001b[40m8 \u001b[0m \u001b[40m19\u001b[0m\n",
       "                  \u001b[44m0 \u001b[0m \u001b[40m19\u001b[0m \u001b[40m14\u001b[0m \u001b[40m9 \u001b[0m \u001b[44m24\u001b[0m\n",
       "   \u001b[42m20\u001b[0m \u001b[40m15\u001b[0m \u001b[40m10\u001b[0m \u001b[40m5 \u001b[0m \u001b[48;5;208m4 \u001b[0m \u001b[48;5;15m0 \u001b[0m \u001b[40m15\u001b[0m \u001b[40m10\u001b[0m \u001b[40m5 \u001b[0m \u001b[41m4 \u001b[0m \u001b[43m0 \u001b[0m \u001b[40m15\u001b[0m \u001b[40m10\u001b[0m \u001b[40m5 \u001b[0m \u001b[43m4 \u001b[0m \u001b[48;5;208m0 \u001b[0m \u001b[40m1 \u001b[0m \u001b[40m2 \u001b[0m \u001b[40m3 \u001b[0m \u001b[48;5;208m24\u001b[0m\n",
       "   \u001b[40m21\u001b[0m \u001b[40m8 \u001b[0m \u001b[40m13\u001b[0m \u001b[40m18\u001b[0m \u001b[40m9 \u001b[0m \u001b[40m3 \u001b[0m \u001b[40m8 \u001b[0m \u001b[40m13\u001b[0m \u001b[40m18\u001b[0m \u001b[40m23\u001b[0m \u001b[40m21\u001b[0m \u001b[40m6 \u001b[0m \u001b[40m7 \u001b[0m \u001b[40m8 \u001b[0m \u001b[40m23\u001b[0m \u001b[40m3 \u001b[0m \u001b[40m8 \u001b[0m \u001b[40m13\u001b[0m \u001b[40m18\u001b[0m \u001b[40m15\u001b[0m\n",
       "   \u001b[40m22\u001b[0m \u001b[40m7 \u001b[0m \u001b[40m12\u001b[0m \u001b[40m17\u001b[0m \u001b[40m14\u001b[0m \u001b[40m2 \u001b[0m \u001b[40m7 \u001b[0m \u001b[40m12\u001b[0m \u001b[40m17\u001b[0m \u001b[40m22\u001b[0m \u001b[40m22\u001b[0m \u001b[40m11\u001b[0m \u001b[40m12\u001b[0m \u001b[40m13\u001b[0m \u001b[40m22\u001b[0m \u001b[40m2 \u001b[0m \u001b[40m7 \u001b[0m \u001b[40m12\u001b[0m \u001b[40m17\u001b[0m \u001b[40m10\u001b[0m\n",
       "   \u001b[40m23\u001b[0m \u001b[40m6 \u001b[0m \u001b[40m11\u001b[0m \u001b[40m16\u001b[0m \u001b[40m19\u001b[0m \u001b[40m1 \u001b[0m \u001b[40m6 \u001b[0m \u001b[40m11\u001b[0m \u001b[40m16\u001b[0m \u001b[40m21\u001b[0m \u001b[40m23\u001b[0m \u001b[40m16\u001b[0m \u001b[40m17\u001b[0m \u001b[40m18\u001b[0m \u001b[40m21\u001b[0m \u001b[40m1 \u001b[0m \u001b[40m6 \u001b[0m \u001b[40m11\u001b[0m \u001b[40m16\u001b[0m \u001b[40m5 \u001b[0m\n",
       "   \u001b[44m20\u001b[0m \u001b[40m19\u001b[0m \u001b[40m14\u001b[0m \u001b[40m9 \u001b[0m \u001b[48;5;15m24\u001b[0m \u001b[41m20\u001b[0m \u001b[40m5 \u001b[0m \u001b[40m10\u001b[0m \u001b[40m15\u001b[0m \u001b[41m24\u001b[0m \u001b[43m20\u001b[0m \u001b[40m3 \u001b[0m \u001b[40m2 \u001b[0m \u001b[40m1 \u001b[0m \u001b[43m24\u001b[0m \u001b[48;5;208m20\u001b[0m \u001b[40m19\u001b[0m \u001b[40m14\u001b[0m \u001b[40m9 \u001b[0m \u001b[48;5;15m4 \u001b[0m\n",
       "                  \u001b[42m0 \u001b[0m \u001b[40m9 \u001b[0m \u001b[40m14\u001b[0m \u001b[40m19\u001b[0m \u001b[42m4 \u001b[0m\n",
       "                  \u001b[40m5 \u001b[0m \u001b[40m6 \u001b[0m \u001b[40m7 \u001b[0m \u001b[40m8 \u001b[0m \u001b[40m23\u001b[0m\n",
       "                  \u001b[40m10\u001b[0m \u001b[40m11\u001b[0m \u001b[40m12\u001b[0m \u001b[40m13\u001b[0m \u001b[40m22\u001b[0m\n",
       "                  \u001b[40m15\u001b[0m \u001b[40m16\u001b[0m \u001b[40m17\u001b[0m \u001b[40m18\u001b[0m \u001b[40m21\u001b[0m\n",
       "                  \u001b[41m0 \u001b[0m \u001b[40m21\u001b[0m \u001b[40m22\u001b[0m \u001b[40m23\u001b[0m \u001b[42m24\u001b[0m))]"
      ]
     },
     "execution_count": 18,
     "metadata": {},
     "output_type": "execute_result"
    }
   ],
   "source": [
    "print(c.moves_stack)\n",
    "solutions = search_best_paths(\n",
    "    state_0 = c,\n",
    "    actions = c.possible_moves,\n",
    "    get_next_state = lambda cube, action: deepcopy(cube).move(action),\n",
    "    get_state_score = lambda cube: cube.fraction_solved(),\n",
    "    remove_action_cycles = remove_cycles,\n",
    "    depth_decay=0.995,\n",
    "    n_branches=round(len(c.possible_moves) ** 2),\n",
    "    max_depth=13,\n",
    "    greedy_fraction = 0.95,\n",
    ")\n",
    "list(zip(solutions[1], solutions[0]))[::-7]"
   ]
  },
  {
   "cell_type": "code",
   "execution_count": 5,
   "metadata": {},
   "outputs": [
    {
     "data": {
      "text/plain": [
       "['x0', \"x0'\", 'y0', \"y0'\", 'z0', \"z0'\", 'x2', \"x2'\", 'y2', \"y2'\", 'z2', \"z2'\"]"
      ]
     },
     "execution_count": 5,
     "metadata": {},
     "output_type": "execute_result"
    }
   ],
   "source": [
    "c.possible_moves"
   ]
  }
 ],
 "metadata": {
  "kernelspec": {
   "display_name": "mute",
   "language": "python",
   "name": "python3"
  },
  "language_info": {
   "codemirror_mode": {
    "name": "ipython",
    "version": 3
   },
   "file_extension": ".py",
   "mimetype": "text/x-python",
   "name": "python",
   "nbconvert_exporter": "python",
   "pygments_lexer": "ipython3",
   "version": "3.11.3"
  },
  "orig_nbformat": 4
 },
 "nbformat": 4,
 "nbformat_minor": 2
}
